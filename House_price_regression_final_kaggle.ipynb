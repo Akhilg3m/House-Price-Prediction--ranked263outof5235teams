{
  "nbformat": 4,
  "nbformat_minor": 0,
  "metadata": {
    "colab": {
      "name": "House-price-regression-final-kaggle.ipynb",
      "provenance": [],
      "collapsed_sections": [],
      "toc_visible": true
    },
    "kernelspec": {
      "name": "python3",
      "display_name": "Python 3"
    }
  },
  "cells": [
    {
      "cell_type": "markdown",
      "metadata": {
        "id": "L9jI3bQO-NH7",
        "colab_type": "text"
      },
      "source": [
        "# House Price Regression\n"
      ]
    },
    {
      "cell_type": "code",
      "metadata": {
        "id": "cfH2gWeD9_v4",
        "colab_type": "code",
        "colab": {}
      },
      "source": [
        "import numpy as np                    # Linear algebra \n",
        "import pandas as pd                   # Data Processing\n",
        "from matplotlib import pyplot as plt  # Matlab-style ploting\n",
        "\n",
        "import seaborn as sns\n",
        "color = sns.color_palette()\n",
        "sns.set_style('darkgrid')\n",
        "\n",
        "from scipy import stats\n",
        "from scipy.stats import norm, skew #for some statistics\n",
        "\n",
        "#Ignoring warnings\n",
        "import warnings\n",
        "def ignore_warn(*args, **kwargs):\n",
        " pass\n",
        "warnings.warn =  ignore_warn\n",
        "\n",
        "\n",
        "pd.set_option('display.float_format', lambda x: '{:.3f}'.format(x)) #Limiting floats output to 3 decimal points\n",
        "\n"
      ],
      "execution_count": 25,
      "outputs": []
    },
    {
      "cell_type": "markdown",
      "metadata": {
        "id": "OK2MsS23Bkmj",
        "colab_type": "text"
      },
      "source": [
        "#Import Dataset"
      ]
    },
    {
      "cell_type": "code",
      "metadata": {
        "id": "F2awpT_YBwEE",
        "colab_type": "code",
        "colab": {
          "base_uri": "https://localhost:8080/",
          "height": 54
        },
        "outputId": "4577a9f3-58d3-4c46-886c-3bd8790b9ad3"
      },
      "source": [
        "from google.colab import drive\n",
        "drive.mount('/content/drive')"
      ],
      "execution_count": 26,
      "outputs": [
        {
          "output_type": "stream",
          "text": [
            "Drive already mounted at /content/drive; to attempt to forcibly remount, call drive.mount(\"/content/drive\", force_remount=True).\n"
          ],
          "name": "stdout"
        }
      ]
    },
    {
      "cell_type": "code",
      "metadata": {
        "id": "O5Kw6FLSDyuO",
        "colab_type": "code",
        "colab": {}
      },
      "source": [
        "train = pd.read_csv('/content/drive/My Drive/Kaggle/House Price Prediction/train.csv')\n",
        "test = pd.read_csv('/content/drive/My Drive/Kaggle/House Price Prediction/test.csv')\n",
        "\n",
        "# # load the train and test data sets from local disk\n",
        "# train = pd.read_csv(\"../input/house-prices-advanced-regression-techniques/train.csv\")\n",
        "# test = pd.read_csv(\"../input/house-prices-advanced-regression-techniques/test.csv\")"
      ],
      "execution_count": 27,
      "outputs": []
    },
    {
      "cell_type": "code",
      "metadata": {
        "id": "gAQ-DHQCOiXa",
        "colab_type": "code",
        "colab": {}
      },
      "source": [
        "x_train = train.iloc[:,:-1]\n",
        "y_train = train.iloc[:,-1:]\n",
        "x_test  = test.iloc[:,:]\n",
        "#x_test.head()"
      ],
      "execution_count": 28,
      "outputs": []
    },
    {
      "cell_type": "markdown",
      "metadata": {
        "id": "N23ZlIl2mEeL",
        "colab_type": "text"
      },
      "source": [
        "# Data Analysis"
      ]
    },
    {
      "cell_type": "markdown",
      "metadata": {
        "id": "1YXW_U8KmN3C",
        "colab_type": "text"
      },
      "source": [
        "## Structure Analysis"
      ]
    },
    {
      "cell_type": "code",
      "metadata": {
        "id": "Pcox2p48Q7ii",
        "colab_type": "code",
        "colab": {
          "base_uri": "https://localhost:8080/",
          "height": 51
        },
        "outputId": "4e2a1a8c-da3f-4ff0-f961-8eed3bd983b9"
      },
      "source": [
        "print(\"train data:\", train.shape )\n",
        "print(\"test  data :\", test.shape )"
      ],
      "execution_count": 29,
      "outputs": [
        {
          "output_type": "stream",
          "text": [
            "train data: (1460, 81)\n",
            "test  data : (1459, 80)\n"
          ],
          "name": "stdout"
        }
      ]
    },
    {
      "cell_type": "code",
      "metadata": {
        "id": "FWQjdoelp4xo",
        "colab_type": "code",
        "colab": {
          "base_uri": "https://localhost:8080/",
          "height": 51
        },
        "outputId": "4ecbf8c2-fe17-4b3d-dd14-a3720cd12e9b"
      },
      "source": [
        "print(\"x_train data:\", x_train.shape )\n",
        "print(\"y_train data:\", y_train.shape )"
      ],
      "execution_count": 30,
      "outputs": [
        {
          "output_type": "stream",
          "text": [
            "x_train data: (1460, 80)\n",
            "y_train data: (1460, 1)\n"
          ],
          "name": "stdout"
        }
      ]
    },
    {
      "cell_type": "code",
      "metadata": {
        "id": "ZMC7RH4INzyx",
        "colab_type": "code",
        "colab": {
          "base_uri": "https://localhost:8080/",
          "height": 34
        },
        "outputId": "e8bdc9dc-7188-4bd5-f8e7-158b8091f762"
      },
      "source": [
        "print(\"x_test data:\", x_test.shape)\n",
        "## we need to predict y_test"
      ],
      "execution_count": 31,
      "outputs": [
        {
          "output_type": "stream",
          "text": [
            "x_test data: (1459, 80)\n"
          ],
          "name": "stdout"
        }
      ]
    },
    {
      "cell_type": "code",
      "metadata": {
        "id": "v2O3J0iUOopj",
        "colab_type": "code",
        "colab": {
          "base_uri": "https://localhost:8080/",
          "height": 224
        },
        "outputId": "f20024bf-4252-45d8-ad62-4e84ffa943d2"
      },
      "source": [
        "x_train.head()"
      ],
      "execution_count": 32,
      "outputs": [
        {
          "output_type": "execute_result",
          "data": {
            "text/html": [
              "<div>\n",
              "<style scoped>\n",
              "    .dataframe tbody tr th:only-of-type {\n",
              "        vertical-align: middle;\n",
              "    }\n",
              "\n",
              "    .dataframe tbody tr th {\n",
              "        vertical-align: top;\n",
              "    }\n",
              "\n",
              "    .dataframe thead th {\n",
              "        text-align: right;\n",
              "    }\n",
              "</style>\n",
              "<table border=\"1\" class=\"dataframe\">\n",
              "  <thead>\n",
              "    <tr style=\"text-align: right;\">\n",
              "      <th></th>\n",
              "      <th>Id</th>\n",
              "      <th>MSSubClass</th>\n",
              "      <th>MSZoning</th>\n",
              "      <th>LotFrontage</th>\n",
              "      <th>LotArea</th>\n",
              "      <th>Street</th>\n",
              "      <th>Alley</th>\n",
              "      <th>LotShape</th>\n",
              "      <th>LandContour</th>\n",
              "      <th>Utilities</th>\n",
              "      <th>LotConfig</th>\n",
              "      <th>LandSlope</th>\n",
              "      <th>Neighborhood</th>\n",
              "      <th>Condition1</th>\n",
              "      <th>Condition2</th>\n",
              "      <th>BldgType</th>\n",
              "      <th>HouseStyle</th>\n",
              "      <th>OverallQual</th>\n",
              "      <th>OverallCond</th>\n",
              "      <th>YearBuilt</th>\n",
              "      <th>YearRemodAdd</th>\n",
              "      <th>RoofStyle</th>\n",
              "      <th>RoofMatl</th>\n",
              "      <th>Exterior1st</th>\n",
              "      <th>Exterior2nd</th>\n",
              "      <th>MasVnrType</th>\n",
              "      <th>MasVnrArea</th>\n",
              "      <th>ExterQual</th>\n",
              "      <th>ExterCond</th>\n",
              "      <th>Foundation</th>\n",
              "      <th>BsmtQual</th>\n",
              "      <th>BsmtCond</th>\n",
              "      <th>BsmtExposure</th>\n",
              "      <th>BsmtFinType1</th>\n",
              "      <th>BsmtFinSF1</th>\n",
              "      <th>BsmtFinType2</th>\n",
              "      <th>BsmtFinSF2</th>\n",
              "      <th>BsmtUnfSF</th>\n",
              "      <th>TotalBsmtSF</th>\n",
              "      <th>Heating</th>\n",
              "      <th>HeatingQC</th>\n",
              "      <th>CentralAir</th>\n",
              "      <th>Electrical</th>\n",
              "      <th>1stFlrSF</th>\n",
              "      <th>2ndFlrSF</th>\n",
              "      <th>LowQualFinSF</th>\n",
              "      <th>GrLivArea</th>\n",
              "      <th>BsmtFullBath</th>\n",
              "      <th>BsmtHalfBath</th>\n",
              "      <th>FullBath</th>\n",
              "      <th>HalfBath</th>\n",
              "      <th>BedroomAbvGr</th>\n",
              "      <th>KitchenAbvGr</th>\n",
              "      <th>KitchenQual</th>\n",
              "      <th>TotRmsAbvGrd</th>\n",
              "      <th>Functional</th>\n",
              "      <th>Fireplaces</th>\n",
              "      <th>FireplaceQu</th>\n",
              "      <th>GarageType</th>\n",
              "      <th>GarageYrBlt</th>\n",
              "      <th>GarageFinish</th>\n",
              "      <th>GarageCars</th>\n",
              "      <th>GarageArea</th>\n",
              "      <th>GarageQual</th>\n",
              "      <th>GarageCond</th>\n",
              "      <th>PavedDrive</th>\n",
              "      <th>WoodDeckSF</th>\n",
              "      <th>OpenPorchSF</th>\n",
              "      <th>EnclosedPorch</th>\n",
              "      <th>3SsnPorch</th>\n",
              "      <th>ScreenPorch</th>\n",
              "      <th>PoolArea</th>\n",
              "      <th>PoolQC</th>\n",
              "      <th>Fence</th>\n",
              "      <th>MiscFeature</th>\n",
              "      <th>MiscVal</th>\n",
              "      <th>MoSold</th>\n",
              "      <th>YrSold</th>\n",
              "      <th>SaleType</th>\n",
              "      <th>SaleCondition</th>\n",
              "    </tr>\n",
              "  </thead>\n",
              "  <tbody>\n",
              "    <tr>\n",
              "      <th>0</th>\n",
              "      <td>1</td>\n",
              "      <td>60</td>\n",
              "      <td>RL</td>\n",
              "      <td>65.000</td>\n",
              "      <td>8450</td>\n",
              "      <td>Pave</td>\n",
              "      <td>NaN</td>\n",
              "      <td>Reg</td>\n",
              "      <td>Lvl</td>\n",
              "      <td>AllPub</td>\n",
              "      <td>Inside</td>\n",
              "      <td>Gtl</td>\n",
              "      <td>CollgCr</td>\n",
              "      <td>Norm</td>\n",
              "      <td>Norm</td>\n",
              "      <td>1Fam</td>\n",
              "      <td>2Story</td>\n",
              "      <td>7</td>\n",
              "      <td>5</td>\n",
              "      <td>2003</td>\n",
              "      <td>2003</td>\n",
              "      <td>Gable</td>\n",
              "      <td>CompShg</td>\n",
              "      <td>VinylSd</td>\n",
              "      <td>VinylSd</td>\n",
              "      <td>BrkFace</td>\n",
              "      <td>196.000</td>\n",
              "      <td>Gd</td>\n",
              "      <td>TA</td>\n",
              "      <td>PConc</td>\n",
              "      <td>Gd</td>\n",
              "      <td>TA</td>\n",
              "      <td>No</td>\n",
              "      <td>GLQ</td>\n",
              "      <td>706</td>\n",
              "      <td>Unf</td>\n",
              "      <td>0</td>\n",
              "      <td>150</td>\n",
              "      <td>856</td>\n",
              "      <td>GasA</td>\n",
              "      <td>Ex</td>\n",
              "      <td>Y</td>\n",
              "      <td>SBrkr</td>\n",
              "      <td>856</td>\n",
              "      <td>854</td>\n",
              "      <td>0</td>\n",
              "      <td>1710</td>\n",
              "      <td>1</td>\n",
              "      <td>0</td>\n",
              "      <td>2</td>\n",
              "      <td>1</td>\n",
              "      <td>3</td>\n",
              "      <td>1</td>\n",
              "      <td>Gd</td>\n",
              "      <td>8</td>\n",
              "      <td>Typ</td>\n",
              "      <td>0</td>\n",
              "      <td>NaN</td>\n",
              "      <td>Attchd</td>\n",
              "      <td>2003.000</td>\n",
              "      <td>RFn</td>\n",
              "      <td>2</td>\n",
              "      <td>548</td>\n",
              "      <td>TA</td>\n",
              "      <td>TA</td>\n",
              "      <td>Y</td>\n",
              "      <td>0</td>\n",
              "      <td>61</td>\n",
              "      <td>0</td>\n",
              "      <td>0</td>\n",
              "      <td>0</td>\n",
              "      <td>0</td>\n",
              "      <td>NaN</td>\n",
              "      <td>NaN</td>\n",
              "      <td>NaN</td>\n",
              "      <td>0</td>\n",
              "      <td>2</td>\n",
              "      <td>2008</td>\n",
              "      <td>WD</td>\n",
              "      <td>Normal</td>\n",
              "    </tr>\n",
              "    <tr>\n",
              "      <th>1</th>\n",
              "      <td>2</td>\n",
              "      <td>20</td>\n",
              "      <td>RL</td>\n",
              "      <td>80.000</td>\n",
              "      <td>9600</td>\n",
              "      <td>Pave</td>\n",
              "      <td>NaN</td>\n",
              "      <td>Reg</td>\n",
              "      <td>Lvl</td>\n",
              "      <td>AllPub</td>\n",
              "      <td>FR2</td>\n",
              "      <td>Gtl</td>\n",
              "      <td>Veenker</td>\n",
              "      <td>Feedr</td>\n",
              "      <td>Norm</td>\n",
              "      <td>1Fam</td>\n",
              "      <td>1Story</td>\n",
              "      <td>6</td>\n",
              "      <td>8</td>\n",
              "      <td>1976</td>\n",
              "      <td>1976</td>\n",
              "      <td>Gable</td>\n",
              "      <td>CompShg</td>\n",
              "      <td>MetalSd</td>\n",
              "      <td>MetalSd</td>\n",
              "      <td>None</td>\n",
              "      <td>0.000</td>\n",
              "      <td>TA</td>\n",
              "      <td>TA</td>\n",
              "      <td>CBlock</td>\n",
              "      <td>Gd</td>\n",
              "      <td>TA</td>\n",
              "      <td>Gd</td>\n",
              "      <td>ALQ</td>\n",
              "      <td>978</td>\n",
              "      <td>Unf</td>\n",
              "      <td>0</td>\n",
              "      <td>284</td>\n",
              "      <td>1262</td>\n",
              "      <td>GasA</td>\n",
              "      <td>Ex</td>\n",
              "      <td>Y</td>\n",
              "      <td>SBrkr</td>\n",
              "      <td>1262</td>\n",
              "      <td>0</td>\n",
              "      <td>0</td>\n",
              "      <td>1262</td>\n",
              "      <td>0</td>\n",
              "      <td>1</td>\n",
              "      <td>2</td>\n",
              "      <td>0</td>\n",
              "      <td>3</td>\n",
              "      <td>1</td>\n",
              "      <td>TA</td>\n",
              "      <td>6</td>\n",
              "      <td>Typ</td>\n",
              "      <td>1</td>\n",
              "      <td>TA</td>\n",
              "      <td>Attchd</td>\n",
              "      <td>1976.000</td>\n",
              "      <td>RFn</td>\n",
              "      <td>2</td>\n",
              "      <td>460</td>\n",
              "      <td>TA</td>\n",
              "      <td>TA</td>\n",
              "      <td>Y</td>\n",
              "      <td>298</td>\n",
              "      <td>0</td>\n",
              "      <td>0</td>\n",
              "      <td>0</td>\n",
              "      <td>0</td>\n",
              "      <td>0</td>\n",
              "      <td>NaN</td>\n",
              "      <td>NaN</td>\n",
              "      <td>NaN</td>\n",
              "      <td>0</td>\n",
              "      <td>5</td>\n",
              "      <td>2007</td>\n",
              "      <td>WD</td>\n",
              "      <td>Normal</td>\n",
              "    </tr>\n",
              "    <tr>\n",
              "      <th>2</th>\n",
              "      <td>3</td>\n",
              "      <td>60</td>\n",
              "      <td>RL</td>\n",
              "      <td>68.000</td>\n",
              "      <td>11250</td>\n",
              "      <td>Pave</td>\n",
              "      <td>NaN</td>\n",
              "      <td>IR1</td>\n",
              "      <td>Lvl</td>\n",
              "      <td>AllPub</td>\n",
              "      <td>Inside</td>\n",
              "      <td>Gtl</td>\n",
              "      <td>CollgCr</td>\n",
              "      <td>Norm</td>\n",
              "      <td>Norm</td>\n",
              "      <td>1Fam</td>\n",
              "      <td>2Story</td>\n",
              "      <td>7</td>\n",
              "      <td>5</td>\n",
              "      <td>2001</td>\n",
              "      <td>2002</td>\n",
              "      <td>Gable</td>\n",
              "      <td>CompShg</td>\n",
              "      <td>VinylSd</td>\n",
              "      <td>VinylSd</td>\n",
              "      <td>BrkFace</td>\n",
              "      <td>162.000</td>\n",
              "      <td>Gd</td>\n",
              "      <td>TA</td>\n",
              "      <td>PConc</td>\n",
              "      <td>Gd</td>\n",
              "      <td>TA</td>\n",
              "      <td>Mn</td>\n",
              "      <td>GLQ</td>\n",
              "      <td>486</td>\n",
              "      <td>Unf</td>\n",
              "      <td>0</td>\n",
              "      <td>434</td>\n",
              "      <td>920</td>\n",
              "      <td>GasA</td>\n",
              "      <td>Ex</td>\n",
              "      <td>Y</td>\n",
              "      <td>SBrkr</td>\n",
              "      <td>920</td>\n",
              "      <td>866</td>\n",
              "      <td>0</td>\n",
              "      <td>1786</td>\n",
              "      <td>1</td>\n",
              "      <td>0</td>\n",
              "      <td>2</td>\n",
              "      <td>1</td>\n",
              "      <td>3</td>\n",
              "      <td>1</td>\n",
              "      <td>Gd</td>\n",
              "      <td>6</td>\n",
              "      <td>Typ</td>\n",
              "      <td>1</td>\n",
              "      <td>TA</td>\n",
              "      <td>Attchd</td>\n",
              "      <td>2001.000</td>\n",
              "      <td>RFn</td>\n",
              "      <td>2</td>\n",
              "      <td>608</td>\n",
              "      <td>TA</td>\n",
              "      <td>TA</td>\n",
              "      <td>Y</td>\n",
              "      <td>0</td>\n",
              "      <td>42</td>\n",
              "      <td>0</td>\n",
              "      <td>0</td>\n",
              "      <td>0</td>\n",
              "      <td>0</td>\n",
              "      <td>NaN</td>\n",
              "      <td>NaN</td>\n",
              "      <td>NaN</td>\n",
              "      <td>0</td>\n",
              "      <td>9</td>\n",
              "      <td>2008</td>\n",
              "      <td>WD</td>\n",
              "      <td>Normal</td>\n",
              "    </tr>\n",
              "    <tr>\n",
              "      <th>3</th>\n",
              "      <td>4</td>\n",
              "      <td>70</td>\n",
              "      <td>RL</td>\n",
              "      <td>60.000</td>\n",
              "      <td>9550</td>\n",
              "      <td>Pave</td>\n",
              "      <td>NaN</td>\n",
              "      <td>IR1</td>\n",
              "      <td>Lvl</td>\n",
              "      <td>AllPub</td>\n",
              "      <td>Corner</td>\n",
              "      <td>Gtl</td>\n",
              "      <td>Crawfor</td>\n",
              "      <td>Norm</td>\n",
              "      <td>Norm</td>\n",
              "      <td>1Fam</td>\n",
              "      <td>2Story</td>\n",
              "      <td>7</td>\n",
              "      <td>5</td>\n",
              "      <td>1915</td>\n",
              "      <td>1970</td>\n",
              "      <td>Gable</td>\n",
              "      <td>CompShg</td>\n",
              "      <td>Wd Sdng</td>\n",
              "      <td>Wd Shng</td>\n",
              "      <td>None</td>\n",
              "      <td>0.000</td>\n",
              "      <td>TA</td>\n",
              "      <td>TA</td>\n",
              "      <td>BrkTil</td>\n",
              "      <td>TA</td>\n",
              "      <td>Gd</td>\n",
              "      <td>No</td>\n",
              "      <td>ALQ</td>\n",
              "      <td>216</td>\n",
              "      <td>Unf</td>\n",
              "      <td>0</td>\n",
              "      <td>540</td>\n",
              "      <td>756</td>\n",
              "      <td>GasA</td>\n",
              "      <td>Gd</td>\n",
              "      <td>Y</td>\n",
              "      <td>SBrkr</td>\n",
              "      <td>961</td>\n",
              "      <td>756</td>\n",
              "      <td>0</td>\n",
              "      <td>1717</td>\n",
              "      <td>1</td>\n",
              "      <td>0</td>\n",
              "      <td>1</td>\n",
              "      <td>0</td>\n",
              "      <td>3</td>\n",
              "      <td>1</td>\n",
              "      <td>Gd</td>\n",
              "      <td>7</td>\n",
              "      <td>Typ</td>\n",
              "      <td>1</td>\n",
              "      <td>Gd</td>\n",
              "      <td>Detchd</td>\n",
              "      <td>1998.000</td>\n",
              "      <td>Unf</td>\n",
              "      <td>3</td>\n",
              "      <td>642</td>\n",
              "      <td>TA</td>\n",
              "      <td>TA</td>\n",
              "      <td>Y</td>\n",
              "      <td>0</td>\n",
              "      <td>35</td>\n",
              "      <td>272</td>\n",
              "      <td>0</td>\n",
              "      <td>0</td>\n",
              "      <td>0</td>\n",
              "      <td>NaN</td>\n",
              "      <td>NaN</td>\n",
              "      <td>NaN</td>\n",
              "      <td>0</td>\n",
              "      <td>2</td>\n",
              "      <td>2006</td>\n",
              "      <td>WD</td>\n",
              "      <td>Abnorml</td>\n",
              "    </tr>\n",
              "    <tr>\n",
              "      <th>4</th>\n",
              "      <td>5</td>\n",
              "      <td>60</td>\n",
              "      <td>RL</td>\n",
              "      <td>84.000</td>\n",
              "      <td>14260</td>\n",
              "      <td>Pave</td>\n",
              "      <td>NaN</td>\n",
              "      <td>IR1</td>\n",
              "      <td>Lvl</td>\n",
              "      <td>AllPub</td>\n",
              "      <td>FR2</td>\n",
              "      <td>Gtl</td>\n",
              "      <td>NoRidge</td>\n",
              "      <td>Norm</td>\n",
              "      <td>Norm</td>\n",
              "      <td>1Fam</td>\n",
              "      <td>2Story</td>\n",
              "      <td>8</td>\n",
              "      <td>5</td>\n",
              "      <td>2000</td>\n",
              "      <td>2000</td>\n",
              "      <td>Gable</td>\n",
              "      <td>CompShg</td>\n",
              "      <td>VinylSd</td>\n",
              "      <td>VinylSd</td>\n",
              "      <td>BrkFace</td>\n",
              "      <td>350.000</td>\n",
              "      <td>Gd</td>\n",
              "      <td>TA</td>\n",
              "      <td>PConc</td>\n",
              "      <td>Gd</td>\n",
              "      <td>TA</td>\n",
              "      <td>Av</td>\n",
              "      <td>GLQ</td>\n",
              "      <td>655</td>\n",
              "      <td>Unf</td>\n",
              "      <td>0</td>\n",
              "      <td>490</td>\n",
              "      <td>1145</td>\n",
              "      <td>GasA</td>\n",
              "      <td>Ex</td>\n",
              "      <td>Y</td>\n",
              "      <td>SBrkr</td>\n",
              "      <td>1145</td>\n",
              "      <td>1053</td>\n",
              "      <td>0</td>\n",
              "      <td>2198</td>\n",
              "      <td>1</td>\n",
              "      <td>0</td>\n",
              "      <td>2</td>\n",
              "      <td>1</td>\n",
              "      <td>4</td>\n",
              "      <td>1</td>\n",
              "      <td>Gd</td>\n",
              "      <td>9</td>\n",
              "      <td>Typ</td>\n",
              "      <td>1</td>\n",
              "      <td>TA</td>\n",
              "      <td>Attchd</td>\n",
              "      <td>2000.000</td>\n",
              "      <td>RFn</td>\n",
              "      <td>3</td>\n",
              "      <td>836</td>\n",
              "      <td>TA</td>\n",
              "      <td>TA</td>\n",
              "      <td>Y</td>\n",
              "      <td>192</td>\n",
              "      <td>84</td>\n",
              "      <td>0</td>\n",
              "      <td>0</td>\n",
              "      <td>0</td>\n",
              "      <td>0</td>\n",
              "      <td>NaN</td>\n",
              "      <td>NaN</td>\n",
              "      <td>NaN</td>\n",
              "      <td>0</td>\n",
              "      <td>12</td>\n",
              "      <td>2008</td>\n",
              "      <td>WD</td>\n",
              "      <td>Normal</td>\n",
              "    </tr>\n",
              "  </tbody>\n",
              "</table>\n",
              "</div>"
            ],
            "text/plain": [
              "   Id  MSSubClass MSZoning  LotFrontage  ...  MoSold YrSold SaleType SaleCondition\n",
              "0   1          60       RL       65.000  ...       2   2008       WD        Normal\n",
              "1   2          20       RL       80.000  ...       5   2007       WD        Normal\n",
              "2   3          60       RL       68.000  ...       9   2008       WD        Normal\n",
              "3   4          70       RL       60.000  ...       2   2006       WD       Abnorml\n",
              "4   5          60       RL       84.000  ...      12   2008       WD        Normal\n",
              "\n",
              "[5 rows x 80 columns]"
            ]
          },
          "metadata": {
            "tags": []
          },
          "execution_count": 32
        }
      ]
    },
    {
      "cell_type": "markdown",
      "metadata": {
        "id": "zROdh0pzmSjc",
        "colab_type": "text"
      },
      "source": [
        "## Correlation Analysis"
      ]
    },
    {
      "cell_type": "code",
      "metadata": {
        "id": "lIhu6fsWQFl3",
        "colab_type": "code",
        "colab": {
          "base_uri": "https://localhost:8080/",
          "height": 624
        },
        "outputId": "077a4969-1841-40d3-9d74-556d42b40065"
      },
      "source": [
        "#Correlation map to see how features are correlated\n",
        "corrmat = train.corr(method='pearson') # pearson or spearman\n",
        "plt.subplots(figsize=(12,9))\n",
        "sns.heatmap(corrmat, annot=False )"
      ],
      "execution_count": 33,
      "outputs": [
        {
          "output_type": "execute_result",
          "data": {
            "text/plain": [
              "<matplotlib.axes._subplots.AxesSubplot at 0x7f257beed630>"
            ]
          },
          "metadata": {
            "tags": []
          },
          "execution_count": 33
        },
        {
          "output_type": "display_data",
          "data": {
            "image/png": "[encoded data removed]",
            "text/plain": [
              "<Figure size 864x648 with 2 Axes>"
            ]
          },
          "metadata": {
            "tags": []
          }
        }
      ]
    },
    {
      "cell_type": "code",
      "metadata": {
        "id": "EVtz0_4lQYvz",
        "colab_type": "code",
        "colab": {}
      },
      "source": [
        "# Correlation values to see how features are correlated with Saleprice\n",
        "corr_target = corrmat.iloc[:-1,-1:]\n",
        "corr_target = corr_target.sort_values('SalePrice', ascending=False)\n",
        "corr_target_positive = corr_target[corr_target.SalePrice >0]\n",
        "corr_target_negative = corr_target[corr_target.SalePrice <0]\n",
        "corr_target_zero = corr_target[corr_target.SalePrice == 0]"
      ],
      "execution_count": 34,
      "outputs": []
    },
    {
      "cell_type": "code",
      "metadata": {
        "id": "lA6WlX3AUmFR",
        "colab_type": "code",
        "colab": {
          "base_uri": "https://localhost:8080/",
          "height": 85
        },
        "outputId": "893aa9a5-ed3a-445f-ee61-2607578e7a1c"
      },
      "source": [
        "print(\"corr_target          :\", corr_target.shape)\n",
        "print(\"corr_target_positive :\", corr_target_positive.shape)\n",
        "print(\"corr_target_negative :\", corr_target_negative.shape)\n",
        "print(\"corr_target_zero     :\", corr_target_zero.shape)"
      ],
      "execution_count": 35,
      "outputs": [
        {
          "output_type": "stream",
          "text": [
            "corr_target          : (37, 1)\n",
            "corr_target_positive : (27, 1)\n",
            "corr_target_negative : (10, 1)\n",
            "corr_target_zero     : (0, 1)\n"
          ],
          "name": "stdout"
        }
      ]
    },
    {
      "cell_type": "markdown",
      "metadata": {
        "id": "vGVvPhRJWfuy",
        "colab_type": "text"
      },
      "source": [
        "\n",
        "*   Total numeric features: 37\n",
        "*   No of features positively correlated with SalePrice: 27\n",
        "*   No of features negatively correlated with SalePrice 10\n",
        "*   No of features zero correlated with SalePrice: 0\n"
      ]
    },
    {
      "cell_type": "markdown",
      "metadata": {
        "id": "AfzW4_d9WwaN",
        "colab_type": "text"
      },
      "source": [
        "**Positive Correlated Features**"
      ]
    },
    {
      "cell_type": "code",
      "metadata": {
        "id": "OhbidHh1W2_C",
        "colab_type": "code",
        "colab": {
          "base_uri": "https://localhost:8080/",
          "height": 886
        },
        "outputId": "793df268-c5fd-45da-abbb-6c3fdd426908"
      },
      "source": [
        "corr_target_positive"
      ],
      "execution_count": 36,
      "outputs": [
        {
          "output_type": "execute_result",
          "data": {
            "text/html": [
              "<div>\n",
              "<style scoped>\n",
              "    .dataframe tbody tr th:only-of-type {\n",
              "        vertical-align: middle;\n",
              "    }\n",
              "\n",
              "    .dataframe tbody tr th {\n",
              "        vertical-align: top;\n",
              "    }\n",
              "\n",
              "    .dataframe thead th {\n",
              "        text-align: right;\n",
              "    }\n",
              "</style>\n",
              "<table border=\"1\" class=\"dataframe\">\n",
              "  <thead>\n",
              "    <tr style=\"text-align: right;\">\n",
              "      <th></th>\n",
              "      <th>SalePrice</th>\n",
              "    </tr>\n",
              "  </thead>\n",
              "  <tbody>\n",
              "    <tr>\n",
              "      <th>OverallQual</th>\n",
              "      <td>0.791</td>\n",
              "    </tr>\n",
              "    <tr>\n",
              "      <th>GrLivArea</th>\n",
              "      <td>0.709</td>\n",
              "    </tr>\n",
              "    <tr>\n",
              "      <th>GarageCars</th>\n",
              "      <td>0.640</td>\n",
              "    </tr>\n",
              "    <tr>\n",
              "      <th>GarageArea</th>\n",
              "      <td>0.623</td>\n",
              "    </tr>\n",
              "    <tr>\n",
              "      <th>TotalBsmtSF</th>\n",
              "      <td>0.614</td>\n",
              "    </tr>\n",
              "    <tr>\n",
              "      <th>1stFlrSF</th>\n",
              "      <td>0.606</td>\n",
              "    </tr>\n",
              "    <tr>\n",
              "      <th>FullBath</th>\n",
              "      <td>0.561</td>\n",
              "    </tr>\n",
              "    <tr>\n",
              "      <th>TotRmsAbvGrd</th>\n",
              "      <td>0.534</td>\n",
              "    </tr>\n",
              "    <tr>\n",
              "      <th>YearBuilt</th>\n",
              "      <td>0.523</td>\n",
              "    </tr>\n",
              "    <tr>\n",
              "      <th>YearRemodAdd</th>\n",
              "      <td>0.507</td>\n",
              "    </tr>\n",
              "    <tr>\n",
              "      <th>GarageYrBlt</th>\n",
              "      <td>0.486</td>\n",
              "    </tr>\n",
              "    <tr>\n",
              "      <th>MasVnrArea</th>\n",
              "      <td>0.477</td>\n",
              "    </tr>\n",
              "    <tr>\n",
              "      <th>Fireplaces</th>\n",
              "      <td>0.467</td>\n",
              "    </tr>\n",
              "    <tr>\n",
              "      <th>BsmtFinSF1</th>\n",
              "      <td>0.386</td>\n",
              "    </tr>\n",
              "    <tr>\n",
              "      <th>LotFrontage</th>\n",
              "      <td>0.352</td>\n",
              "    </tr>\n",
              "    <tr>\n",
              "      <th>WoodDeckSF</th>\n",
              "      <td>0.324</td>\n",
              "    </tr>\n",
              "    <tr>\n",
              "      <th>2ndFlrSF</th>\n",
              "      <td>0.319</td>\n",
              "    </tr>\n",
              "    <tr>\n",
              "      <th>OpenPorchSF</th>\n",
              "      <td>0.316</td>\n",
              "    </tr>\n",
              "    <tr>\n",
              "      <th>HalfBath</th>\n",
              "      <td>0.284</td>\n",
              "    </tr>\n",
              "    <tr>\n",
              "      <th>LotArea</th>\n",
              "      <td>0.264</td>\n",
              "    </tr>\n",
              "    <tr>\n",
              "      <th>BsmtFullBath</th>\n",
              "      <td>0.227</td>\n",
              "    </tr>\n",
              "    <tr>\n",
              "      <th>BsmtUnfSF</th>\n",
              "      <td>0.214</td>\n",
              "    </tr>\n",
              "    <tr>\n",
              "      <th>BedroomAbvGr</th>\n",
              "      <td>0.168</td>\n",
              "    </tr>\n",
              "    <tr>\n",
              "      <th>ScreenPorch</th>\n",
              "      <td>0.111</td>\n",
              "    </tr>\n",
              "    <tr>\n",
              "      <th>PoolArea</th>\n",
              "      <td>0.092</td>\n",
              "    </tr>\n",
              "    <tr>\n",
              "      <th>MoSold</th>\n",
              "      <td>0.046</td>\n",
              "    </tr>\n",
              "    <tr>\n",
              "      <th>3SsnPorch</th>\n",
              "      <td>0.045</td>\n",
              "    </tr>\n",
              "  </tbody>\n",
              "</table>\n",
              "</div>"
            ],
            "text/plain": [
              "              SalePrice\n",
              "OverallQual       0.791\n",
              "GrLivArea         0.709\n",
              "GarageCars        0.640\n",
              "GarageArea        0.623\n",
              "TotalBsmtSF       0.614\n",
              "1stFlrSF          0.606\n",
              "FullBath          0.561\n",
              "TotRmsAbvGrd      0.534\n",
              "YearBuilt         0.523\n",
              "YearRemodAdd      0.507\n",
              "GarageYrBlt       0.486\n",
              "MasVnrArea        0.477\n",
              "Fireplaces        0.467\n",
              "BsmtFinSF1        0.386\n",
              "LotFrontage       0.352\n",
              "WoodDeckSF        0.324\n",
              "2ndFlrSF          0.319\n",
              "OpenPorchSF       0.316\n",
              "HalfBath          0.284\n",
              "LotArea           0.264\n",
              "BsmtFullBath      0.227\n",
              "BsmtUnfSF         0.214\n",
              "BedroomAbvGr      0.168\n",
              "ScreenPorch       0.111\n",
              "PoolArea          0.092\n",
              "MoSold            0.046\n",
              "3SsnPorch         0.045"
            ]
          },
          "metadata": {
            "tags": []
          },
          "execution_count": 36
        }
      ]
    },
    {
      "cell_type": "markdown",
      "metadata": {
        "id": "jPNeWqUWW_CE",
        "colab_type": "text"
      },
      "source": [
        "**Negative Correlated Featutes**"
      ]
    },
    {
      "cell_type": "code",
      "metadata": {
        "id": "KPIYptbEXCRw",
        "colab_type": "code",
        "colab": {
          "base_uri": "https://localhost:8080/",
          "height": 359
        },
        "outputId": "36919297-33a5-4ed2-da06-e11d763f8faf"
      },
      "source": [
        "corr_target_negative"
      ],
      "execution_count": 37,
      "outputs": [
        {
          "output_type": "execute_result",
          "data": {
            "text/html": [
              "<div>\n",
              "<style scoped>\n",
              "    .dataframe tbody tr th:only-of-type {\n",
              "        vertical-align: middle;\n",
              "    }\n",
              "\n",
              "    .dataframe tbody tr th {\n",
              "        vertical-align: top;\n",
              "    }\n",
              "\n",
              "    .dataframe thead th {\n",
              "        text-align: right;\n",
              "    }\n",
              "</style>\n",
              "<table border=\"1\" class=\"dataframe\">\n",
              "  <thead>\n",
              "    <tr style=\"text-align: right;\">\n",
              "      <th></th>\n",
              "      <th>SalePrice</th>\n",
              "    </tr>\n",
              "  </thead>\n",
              "  <tbody>\n",
              "    <tr>\n",
              "      <th>BsmtFinSF2</th>\n",
              "      <td>-0.011</td>\n",
              "    </tr>\n",
              "    <tr>\n",
              "      <th>BsmtHalfBath</th>\n",
              "      <td>-0.017</td>\n",
              "    </tr>\n",
              "    <tr>\n",
              "      <th>MiscVal</th>\n",
              "      <td>-0.021</td>\n",
              "    </tr>\n",
              "    <tr>\n",
              "      <th>Id</th>\n",
              "      <td>-0.022</td>\n",
              "    </tr>\n",
              "    <tr>\n",
              "      <th>LowQualFinSF</th>\n",
              "      <td>-0.026</td>\n",
              "    </tr>\n",
              "    <tr>\n",
              "      <th>YrSold</th>\n",
              "      <td>-0.029</td>\n",
              "    </tr>\n",
              "    <tr>\n",
              "      <th>OverallCond</th>\n",
              "      <td>-0.078</td>\n",
              "    </tr>\n",
              "    <tr>\n",
              "      <th>MSSubClass</th>\n",
              "      <td>-0.084</td>\n",
              "    </tr>\n",
              "    <tr>\n",
              "      <th>EnclosedPorch</th>\n",
              "      <td>-0.129</td>\n",
              "    </tr>\n",
              "    <tr>\n",
              "      <th>KitchenAbvGr</th>\n",
              "      <td>-0.136</td>\n",
              "    </tr>\n",
              "  </tbody>\n",
              "</table>\n",
              "</div>"
            ],
            "text/plain": [
              "               SalePrice\n",
              "BsmtFinSF2        -0.011\n",
              "BsmtHalfBath      -0.017\n",
              "MiscVal           -0.021\n",
              "Id                -0.022\n",
              "LowQualFinSF      -0.026\n",
              "YrSold            -0.029\n",
              "OverallCond       -0.078\n",
              "MSSubClass        -0.084\n",
              "EnclosedPorch     -0.129\n",
              "KitchenAbvGr      -0.136"
            ]
          },
          "metadata": {
            "tags": []
          },
          "execution_count": 37
        }
      ]
    },
    {
      "cell_type": "markdown",
      "metadata": {
        "id": "SYf6vl7jmXd8",
        "colab_type": "text"
      },
      "source": [
        "## Distribution Analysis"
      ]
    },
    {
      "cell_type": "code",
      "metadata": {
        "id": "9H_joUx7X3Rw",
        "colab_type": "code",
        "colab": {
          "base_uri": "https://localhost:8080/",
          "height": 282
        },
        "outputId": "43d4b398-52df-4c43-cd87-5f1cb219db78"
      },
      "source": [
        "fig, ax = plt.subplots()\n",
        "ax.scatter(x_train['GrLivArea'], y_train['SalePrice'])\n",
        "plt.ylabel('SalePrice', fontsize=13)\n",
        "plt.xlabel('GrLivArea', fontsize=13)\n",
        "plt.show()"
      ],
      "execution_count": 38,
      "outputs": [
        {
          "output_type": "display_data",
          "data": {
            "image/png": "[encoded data removed]",
            "text/plain": [
              "<Figure size 432x288 with 1 Axes>"
            ]
          },
          "metadata": {
            "tags": []
          }
        }
      ]
    },
    {
      "cell_type": "markdown",
      "metadata": {
        "id": "4HuPXxKEX4_3",
        "colab_type": "text"
      },
      "source": [
        "\n",
        "\n",
        "*   Data is destributed linearlly, so we can assume sklearn.linear_models suites best.\n",
        "*   Two outliers that are far away from distribution so we can delete them\n",
        "\n"
      ]
    },
    {
      "cell_type": "markdown",
      "metadata": {
        "id": "l8bczfCmmdyO",
        "colab_type": "text"
      },
      "source": [
        "##Features Analysis"
      ]
    },
    {
      "cell_type": "markdown",
      "metadata": {
        "id": "tm3CAlrwZZrv",
        "colab_type": "text"
      },
      "source": [
        "**Groups**"
      ]
    },
    {
      "cell_type": "markdown",
      "metadata": {
        "id": "FKZmnjU_ZcqU",
        "colab_type": "text"
      },
      "source": [
        "* LotArea, LotShape, LotConfig\n",
        "* TotalBsmtSF, 1stFlrSF, 2ndFlrSF\n",
        "* YearBuilt, YearRemodAdd, YrSold\n",
        "* BsmtQual, BsmtCond, BsmtExposure, BsmtFinType1, BsmtFinSF1, BsmtFinType2,BsmtFinSF2, BsmtUnfSF, TotalBsmtSF\n",
        "* BsmtFullBath, BsmtHalfBath, FullBath, HalfBath\n",
        "* OpenPorchSF, 3SsnPorch, EnclosedPorch, ScreenPorch, WoodDeckSF\n",
        "* GarageType, GarageYrBlt, GarageFinish, GarageCars, GarageArea, GarageQual, GarageCond, "
      ]
    },
    {
      "cell_type": "markdown",
      "metadata": {
        "id": "n7UEh7KYdMES",
        "colab_type": "text"
      },
      "source": [
        "**New Features**"
      ]
    },
    {
      "cell_type": "markdown",
      "metadata": {
        "id": "XDRJBHRBdR3H",
        "colab_type": "text"
      },
      "source": [
        "1. **TotalSF** = TotalBsmtSF + 1stFlrSF + 2ndFlrSF\n",
        "\n",
        "2. **Total_sqr_footage** = BsmtFinSF1+ BsmtFinSF2 + 1stFlrSF + 2ndFlrSF\n",
        "\n",
        "3. **Total_Bathrooms** = FullBath + 0.5 * HalfBath + BsmtFullBath + 0.5 * BsmtHalfBath'\n",
        "\n",
        "4. **YrBltAndRemod** = YearBuilt + YearRemodAdd\n",
        "\n",
        "5. **Total_porch_sf** = OpenPorchSF + 3SsnPorch +                           EnclosedPorch + ScreenPorch + WoodDeckSF"
      ]
    },
    {
      "cell_type": "markdown",
      "metadata": {
        "id": "sVQnA-oDdHzn",
        "colab_type": "text"
      },
      "source": [
        "**Delete Features**\n",
        "\n",
        "1. ID"
      ]
    },
    {
      "cell_type": "markdown",
      "metadata": {
        "id": "-kuHCmnLOkLn",
        "colab_type": "text"
      },
      "source": [
        "# Data Preprocessing"
      ]
    },
    {
      "cell_type": "markdown",
      "metadata": {
        "colab_type": "text",
        "id": "o9s1ri8VnRKx"
      },
      "source": [
        "## Dependent Feature"
      ]
    },
    {
      "cell_type": "markdown",
      "metadata": {
        "id": "O3LHCj5cEOi4",
        "colab_type": "text"
      },
      "source": [
        "### Missing Data"
      ]
    },
    {
      "cell_type": "code",
      "metadata": {
        "id": "kG9CychUJFmP",
        "colab_type": "code",
        "colab": {
          "base_uri": "https://localhost:8080/",
          "height": 51
        },
        "outputId": "127ebc9f-bac4-44c8-b020-64a781fefb46"
      },
      "source": [
        "y_train.isnull().sum()"
      ],
      "execution_count": 39,
      "outputs": [
        {
          "output_type": "execute_result",
          "data": {
            "text/plain": [
              "SalePrice    0\n",
              "dtype: int64"
            ]
          },
          "metadata": {
            "tags": []
          },
          "execution_count": 39
        }
      ]
    },
    {
      "cell_type": "markdown",
      "metadata": {
        "id": "q7vo-fv4NLvA",
        "colab_type": "text"
      },
      "source": [
        "### Outliers"
      ]
    },
    {
      "cell_type": "markdown",
      "metadata": {
        "id": "EKZdFmdRNLvB",
        "colab_type": "text"
      },
      "source": [
        "**Check for outliers**"
      ]
    },
    {
      "cell_type": "code",
      "metadata": {
        "id": "Tw8KiyG9NLvC",
        "colab_type": "code",
        "colab": {
          "base_uri": "https://localhost:8080/",
          "height": 282
        },
        "outputId": "e61a12e2-9229-4eab-cb33-2f7eab4f8e5f"
      },
      "source": [
        "fig, ax = plt.subplots()\n",
        "ax.scatter(x_train['GrLivArea'], y_train['SalePrice'])\n",
        "plt.ylabel('SalePrice', fontsize=13)\n",
        "plt.xlabel('GrLivArea', fontsize=13)\n",
        "plt.show()"
      ],
      "execution_count": 40,
      "outputs": [
        {
          "output_type": "display_data",
          "data": {
            "image/png": "[encoded data removed]",
            "text/plain": [
              "<Figure size 432x288 with 1 Axes>"
            ]
          },
          "metadata": {
            "tags": []
          }
        }
      ]
    },
    {
      "cell_type": "markdown",
      "metadata": {
        "id": "vdYrfShl8gxN",
        "colab_type": "text"
      },
      "source": [
        "**Delete Outliers**"
      ]
    },
    {
      "cell_type": "code",
      "metadata": {
        "id": "IrGzIX7Z8hJR",
        "colab_type": "code",
        "colab": {
          "base_uri": "https://localhost:8080/",
          "height": 34
        },
        "outputId": "0f7484da-053e-420a-e8dc-1f8eb493aa01"
      },
      "source": [
        "index = (x_train[(x_train['GrLivArea']>4000) & (y_train['SalePrice']<300000)].index)\n",
        "x_train = x_train.drop(index)\n",
        "y_train = y_train.drop(index)\n",
        "index"
      ],
      "execution_count": 41,
      "outputs": [
        {
          "output_type": "execute_result",
          "data": {
            "text/plain": [
              "Int64Index([523, 1298], dtype='int64')"
            ]
          },
          "metadata": {
            "tags": []
          },
          "execution_count": 41
        }
      ]
    },
    {
      "cell_type": "markdown",
      "metadata": {
        "id": "ZS6V0wTbNLvF",
        "colab_type": "text"
      },
      "source": [
        "**Without outliers**"
      ]
    },
    {
      "cell_type": "code",
      "metadata": {
        "id": "Xmi_M8EENLvG",
        "colab_type": "code",
        "colab": {
          "base_uri": "https://localhost:8080/",
          "height": 282
        },
        "outputId": "3857496c-044a-4448-f2bf-6069b0527a58"
      },
      "source": [
        "fig, ax = plt.subplots()\n",
        "ax.scatter(x_train['GrLivArea'], y_train['SalePrice'])\n",
        "plt.ylabel('SalePrice', fontsize=13)\n",
        "plt.xlabel('GrLivArea', fontsize=13)\n",
        "plt.show()"
      ],
      "execution_count": 42,
      "outputs": [
        {
          "output_type": "display_data",
          "data": {
            "image/png": "[encoded data removed]",
            "text/plain": [
              "<Figure size 432x288 with 1 Axes>"
            ]
          },
          "metadata": {
            "tags": []
          }
        }
      ]
    },
    {
      "cell_type": "markdown",
      "metadata": {
        "id": "DzBzqy-iNLvJ",
        "colab_type": "text"
      },
      "source": [
        "### Skewness\n"
      ]
    },
    {
      "cell_type": "markdown",
      "metadata": {
        "id": "GCc92AUIIGIF",
        "colab_type": "text"
      },
      "source": [
        "**Check Skewness**"
      ]
    },
    {
      "cell_type": "code",
      "metadata": {
        "id": "7L958lP2NLvK",
        "colab_type": "code",
        "colab": {
          "base_uri": "https://localhost:8080/",
          "height": 290
        },
        "outputId": "f10b6e07-6680-43a6-8b2d-86bd3422822a"
      },
      "source": [
        "sns.distplot(y_train['SalePrice'] , fit=norm);"
      ],
      "execution_count": 43,
      "outputs": [
        {
          "output_type": "display_data",
          "data": {
            "image/png": "[encoded data removed]",
            "text/plain": [
              "<Figure size 432x288 with 1 Axes>"
            ]
          },
          "metadata": {
            "tags": []
          }
        }
      ]
    },
    {
      "cell_type": "markdown",
      "metadata": {
        "id": "5H1V9xQeNLvQ",
        "colab_type": "text"
      },
      "source": [
        "** Box-Cox-transformation of the target variable**"
      ]
    },
    {
      "cell_type": "code",
      "metadata": {
        "id": "CN38_L-gNLvR",
        "colab_type": "code",
        "colab": {}
      },
      "source": [
        "from scipy.special import boxcox1p\n",
        "lam = 0.0\n",
        "y_train[\"SalePrice\"] = boxcox1p(y_train[\"SalePrice\"],lam)\n",
        "\n",
        "#train[\"SalePrice\"] = np.log1p(train[\"SalePrice\"])"
      ],
      "execution_count": 44,
      "outputs": []
    },
    {
      "cell_type": "markdown",
      "metadata": {
        "id": "FjCtGaYhIcme",
        "colab_type": "text"
      },
      "source": [
        "**Without Skweness**"
      ]
    },
    {
      "cell_type": "code",
      "metadata": {
        "id": "go_vk_UTNLvU",
        "colab_type": "code",
        "colab": {
          "base_uri": "https://localhost:8080/",
          "height": 290
        },
        "outputId": "b1ce4256-cb4f-4ae2-a424-02ff99f408a6"
      },
      "source": [
        "#Check the new distribution \n",
        "sns.distplot(train['SalePrice'] , fit=norm);"
      ],
      "execution_count": 45,
      "outputs": [
        {
          "output_type": "display_data",
          "data": {
            "image/png": "[encoded data removed]",
            "text/plain": [
              "<Figure size 432x288 with 1 Axes>"
            ]
          },
          "metadata": {
            "tags": []
          }
        }
      ]
    },
    {
      "cell_type": "markdown",
      "metadata": {
        "id": "u5Xt94huJdvD",
        "colab_type": "text"
      },
      "source": [
        "## Independent Features"
      ]
    },
    {
      "cell_type": "code",
      "metadata": {
        "id": "JECXIuc2KAWd",
        "colab_type": "code",
        "colab": {
          "base_uri": "https://localhost:8080/",
          "height": 68
        },
        "outputId": "f65e48f4-e210-4f50-e418-8523a0fbc5c6"
      },
      "source": [
        "print(\"x_train shape:\", x_train.shape)\n",
        "print(\"x_test shape:\", x_test.shape)\n",
        "\n",
        "x_train_rows = x_train.shape[0]\n",
        "x_test_rows = x_test.shape[0]\n",
        "\n",
        "x_train_test = pd.concat((x_train,x_test)).reset_index(drop=True)\n",
        "\n",
        "print(\"x_train_test shape\",x_train_test.shape)"
      ],
      "execution_count": 46,
      "outputs": [
        {
          "output_type": "stream",
          "text": [
            "x_train shape: (1458, 80)\n",
            "x_test shape: (1459, 80)\n",
            "x_train_test shape (2917, 80)\n"
          ],
          "name": "stdout"
        }
      ]
    },
    {
      "cell_type": "markdown",
      "metadata": {
        "id": "HJ-SdsCaR-5Z",
        "colab_type": "text"
      },
      "source": [
        "### Missing Data"
      ]
    },
    {
      "cell_type": "markdown",
      "metadata": {
        "id": "IpNlX5O8cLWn",
        "colab_type": "text"
      },
      "source": [
        "**Finding Missing Data Features**"
      ]
    },
    {
      "cell_type": "code",
      "metadata": {
        "id": "zNzaHsWrSGuE",
        "colab_type": "code",
        "colab": {
          "base_uri": "https://localhost:8080/",
          "height": 221
        },
        "outputId": "a126d195-ff2b-4684-a769-a2a9f0cef540"
      },
      "source": [
        "missing_data = (x_train_test.isnull().sum() / len(x_train_test)) * 100\n",
        "missing_data = missing_data.drop(missing_data[missing_data==0].index).sort_values(ascending=False)\n",
        "missing_data = pd.DataFrame({'Missing Ratio' :missing_data})\n",
        "\n",
        "print(\"Missing Features count:\",missing_data.shape)\n",
        "missing_data.head()"
      ],
      "execution_count": 47,
      "outputs": [
        {
          "output_type": "stream",
          "text": [
            "Missing Features count: (34, 1)\n"
          ],
          "name": "stdout"
        },
        {
          "output_type": "execute_result",
          "data": {
            "text/html": [
              "<div>\n",
              "<style scoped>\n",
              "    .dataframe tbody tr th:only-of-type {\n",
              "        vertical-align: middle;\n",
              "    }\n",
              "\n",
              "    .dataframe tbody tr th {\n",
              "        vertical-align: top;\n",
              "    }\n",
              "\n",
              "    .dataframe thead th {\n",
              "        text-align: right;\n",
              "    }\n",
              "</style>\n",
              "<table border=\"1\" class=\"dataframe\">\n",
              "  <thead>\n",
              "    <tr style=\"text-align: right;\">\n",
              "      <th></th>\n",
              "      <th>Missing Ratio</th>\n",
              "    </tr>\n",
              "  </thead>\n",
              "  <tbody>\n",
              "    <tr>\n",
              "      <th>PoolQC</th>\n",
              "      <td>99.691</td>\n",
              "    </tr>\n",
              "    <tr>\n",
              "      <th>MiscFeature</th>\n",
              "      <td>96.400</td>\n",
              "    </tr>\n",
              "    <tr>\n",
              "      <th>Alley</th>\n",
              "      <td>93.212</td>\n",
              "    </tr>\n",
              "    <tr>\n",
              "      <th>Fence</th>\n",
              "      <td>80.425</td>\n",
              "    </tr>\n",
              "    <tr>\n",
              "      <th>FireplaceQu</th>\n",
              "      <td>48.680</td>\n",
              "    </tr>\n",
              "  </tbody>\n",
              "</table>\n",
              "</div>"
            ],
            "text/plain": [
              "             Missing Ratio\n",
              "PoolQC              99.691\n",
              "MiscFeature         96.400\n",
              "Alley               93.212\n",
              "Fence               80.425\n",
              "FireplaceQu         48.680"
            ]
          },
          "metadata": {
            "tags": []
          },
          "execution_count": 47
        }
      ]
    },
    {
      "cell_type": "markdown",
      "metadata": {
        "id": "3MS25jVIcnEd",
        "colab_type": "text"
      },
      "source": [
        "**Imputing missing values**"
      ]
    },
    {
      "cell_type": "code",
      "metadata": {
        "id": "WVH6anT3hicG",
        "colab_type": "code",
        "colab": {}
      },
      "source": [
        "fill_None = ['PoolQC', 'MiscFeature', 'Alley', 'Fence', 'FireplaceQu', 'GarageFinish', 'GarageQual',\n",
        "             'GarageCond', 'GarageType','BsmtExposure', 'BsmtCond', 'BsmtQual', 'BsmtFinType2',\n",
        "             'BsmtFinType1', 'MasVnrType']\n",
        "\n",
        "fill_0 = ['BsmtFinSF1', 'BsmtFinSF2', 'BsmtUnfSF','TotalBsmtSF', 'BsmtFullBath', 'BsmtHalfBath',\n",
        "            'GarageCars', 'GarageArea']\n",
        "\n",
        "fill_mode = ['MSZoning','Electrical', 'KitchenQual', 'Utilities', 'Functional', 'Exterior2nd',\n",
        "            'Exterior1st', 'SaleType', 'MSZoning' ]\n",
        "\n",
        "for col in fill_None:\n",
        "    x_train_test[col] = x_train_test[col].fillna('None')\n",
        "\n",
        "for col in (fill_0):\n",
        "    x_train_test[col] = x_train_test[col].fillna(0)\n",
        "\n",
        "for col in (fill_mode):\n",
        "    x_train_test[col] = x_train_test[col].fillna(x_train_test[col].mode()[0])\n"
      ],
      "execution_count": 48,
      "outputs": []
    },
    {
      "cell_type": "code",
      "metadata": {
        "id": "YGkviHSfdAIh",
        "colab_type": "code",
        "colab": {}
      },
      "source": [
        "#Group by neighborhood and fill in missing value by the median LotFrontage of each corresponding neighborhood\n",
        "x_train_test[\"LotFrontage\"] = x_train_test.groupby(\"Neighborhood\")[\"LotFrontage\"].transform(\n",
        "    lambda x: x.fillna(x.median()))\n",
        "\n",
        "x_train_test[\"MasVnrArea\"] = x_train_test.groupby(\"MasVnrType\")[\"MasVnrArea\"].transform(\n",
        "    lambda x: x.fillna(x.mean()))\n"
      ],
      "execution_count": 49,
      "outputs": []
    },
    {
      "cell_type": "code",
      "metadata": {
        "id": "f9MEZNzF7w-W",
        "colab_type": "code",
        "colab": {}
      },
      "source": [
        "# for index, row in x_train_test.iterrows():\n",
        "#   if(pd.isnull(row[\"GarageType\"])):\n",
        "#     row['GarageFinish'] = 'None'\n",
        "#     row['GarageQual'] = 'None'\n",
        "#     row['GarageCond'] = 'None'\n",
        "#     row['GarageYrBlt'] = 0\n",
        "#     row['GarageCars'] = 0\n",
        "#     row['GarageArea'] = 0\n",
        "#   else:\n",
        "#     if(pd.isnull(row[\"GarageArea\"])):\n",
        "#       print(\"Ho God\")\n",
        "\n",
        "# By correlation between GarageYrBlt YearBuilt\n",
        "for index, row in x_train_test.iterrows():\n",
        "  if(pd.isnull(row[\"GarageYrBlt\"])):\n",
        "    if(pd.isnull(row[\"YearBuilt\"])):\n",
        "      x_train_test[\"GarageYrBlt\"][index] = 0\n",
        "    else:\n",
        "      x_train_test[\"GarageYrBlt\"][index] = x_train_test[\"YearBuilt\"][index]\n",
        "      "
      ],
      "execution_count": 50,
      "outputs": []
    },
    {
      "cell_type": "code",
      "metadata": {
        "colab_type": "code",
        "id": "W3ewNkW4flhY",
        "colab": {
          "base_uri": "https://localhost:8080/",
          "height": 66
        },
        "outputId": "0130d29d-3aa0-4ed0-88a0-d3611696b107"
      },
      "source": [
        "missing_data = (x_train_test.isnull().sum() / len(x_train_test)) * 100\n",
        "missing_data = missing_data.drop(missing_data[missing_data==0].index).sort_values(ascending=False)\n",
        "missing_data = pd.DataFrame({'Missing Ratio' :missing_data})\n",
        "\n",
        "print(\"Missing Features count:\",missing_data.shape)\n",
        "missing_data.head(34)"
      ],
      "execution_count": 51,
      "outputs": [
        {
          "output_type": "stream",
          "text": [
            "Missing Features count: (0, 1)\n"
          ],
          "name": "stdout"
        },
        {
          "output_type": "execute_result",
          "data": {
            "text/html": [
              "<div>\n",
              "<style scoped>\n",
              "    .dataframe tbody tr th:only-of-type {\n",
              "        vertical-align: middle;\n",
              "    }\n",
              "\n",
              "    .dataframe tbody tr th {\n",
              "        vertical-align: top;\n",
              "    }\n",
              "\n",
              "    .dataframe thead th {\n",
              "        text-align: right;\n",
              "    }\n",
              "</style>\n",
              "<table border=\"1\" class=\"dataframe\">\n",
              "  <thead>\n",
              "    <tr style=\"text-align: right;\">\n",
              "      <th></th>\n",
              "      <th>Missing Ratio</th>\n",
              "    </tr>\n",
              "  </thead>\n",
              "  <tbody>\n",
              "  </tbody>\n",
              "</table>\n",
              "</div>"
            ],
            "text/plain": [
              "Empty DataFrame\n",
              "Columns: [Missing Ratio]\n",
              "Index: []"
            ]
          },
          "metadata": {
            "tags": []
          },
          "execution_count": 51
        }
      ]
    },
    {
      "cell_type": "markdown",
      "metadata": {
        "colab_type": "text",
        "id": "XFtUYZoSiEUF"
      },
      "source": [
        "Finding Missing Data Features "
      ]
    },
    {
      "cell_type": "code",
      "metadata": {
        "colab_type": "code",
        "id": "hj2atEsViEUI",
        "colab": {
          "base_uri": "https://localhost:8080/",
          "height": 66
        },
        "outputId": "5b9b6e55-49f1-454b-ed2e-2f468029265a"
      },
      "source": [
        "missing_data = (x_train_test.isnull().sum() / len(x_train_test)) * 100\n",
        "missing_data = missing_data.drop(missing_data[missing_data==0].index).sort_values(ascending=False)\n",
        "missing_data = pd.DataFrame({'Missing Ratio' :missing_data})\n",
        "\n",
        "print(\"Missing Features count:\",missing_data.shape)\n",
        "missing_data.head()"
      ],
      "execution_count": 52,
      "outputs": [
        {
          "output_type": "stream",
          "text": [
            "Missing Features count: (0, 1)\n"
          ],
          "name": "stdout"
        },
        {
          "output_type": "execute_result",
          "data": {
            "text/html": [
              "<div>\n",
              "<style scoped>\n",
              "    .dataframe tbody tr th:only-of-type {\n",
              "        vertical-align: middle;\n",
              "    }\n",
              "\n",
              "    .dataframe tbody tr th {\n",
              "        vertical-align: top;\n",
              "    }\n",
              "\n",
              "    .dataframe thead th {\n",
              "        text-align: right;\n",
              "    }\n",
              "</style>\n",
              "<table border=\"1\" class=\"dataframe\">\n",
              "  <thead>\n",
              "    <tr style=\"text-align: right;\">\n",
              "      <th></th>\n",
              "      <th>Missing Ratio</th>\n",
              "    </tr>\n",
              "  </thead>\n",
              "  <tbody>\n",
              "  </tbody>\n",
              "</table>\n",
              "</div>"
            ],
            "text/plain": [
              "Empty DataFrame\n",
              "Columns: [Missing Ratio]\n",
              "Index: []"
            ]
          },
          "metadata": {
            "tags": []
          },
          "execution_count": 52
        }
      ]
    },
    {
      "cell_type": "markdown",
      "metadata": {
        "id": "WNgK-WVYNLxD",
        "colab_type": "text"
      },
      "source": [
        "### Add&Delete features(FE)"
      ]
    },
    {
      "cell_type": "code",
      "metadata": {
        "id": "fqNOYtwhNLxD",
        "colab_type": "code",
        "colab": {}
      },
      "source": [
        "# Adding total sqfootage feature \n",
        "x_train_test['TotalSF'] = x_train_test['TotalBsmtSF'] + x_train_test['1stFlrSF'] + x_train_test['2ndFlrSF']\n",
        "\n",
        "x_train_test['Total_sqr_footage'] = (x_train_test['BsmtFinSF1'] + x_train_test['BsmtFinSF2'] +\n",
        "                                 x_train_test['1stFlrSF'] + x_train_test['2ndFlrSF'])\n",
        "\n",
        "x_train_test['Total_Bathrooms'] = (x_train_test['FullBath'] + (0.5 * x_train_test['HalfBath']) +\n",
        "                               x_train_test['BsmtFullBath'] + (0.5 * x_train_test['BsmtHalfBath']))\n",
        "\n",
        "x_train_test['YrBltAndRemod'] = x_train_test['YearBuilt'] + x_train_test['YearRemodAdd']\n",
        "\n",
        "x_train_test['Total_porch_sf'] = (x_train_test['OpenPorchSF'] + x_train_test['3SsnPorch'] +\n",
        "                              x_train_test['EnclosedPorch'] + x_train_test['ScreenPorch'] +\n",
        "                              x_train_test['WoodDeckSF'])\n",
        "\n"
      ],
      "execution_count": 53,
      "outputs": []
    },
    {
      "cell_type": "code",
      "metadata": {
        "id": "atpsNaSGqThX",
        "colab_type": "code",
        "colab": {}
      },
      "source": [
        "# Deleting features\n",
        "x_test_id = x_test[\"Id\"]\n",
        "x_train_test = x_train_test.drop(\"Id\" ,axis = 1)\n",
        "x_train_test = x_train_test.drop(['Utilities'], axis=1)"
      ],
      "execution_count": 54,
      "outputs": []
    },
    {
      "cell_type": "markdown",
      "metadata": {
        "id": "K_mu1saENLw5",
        "colab_type": "text"
      },
      "source": [
        "### Categorical Features\n",
        "\n"
      ]
    },
    {
      "cell_type": "markdown",
      "metadata": {
        "id": "jD1UJlCl5SVd",
        "colab_type": "text"
      },
      "source": [
        "**Numerical categorical variables**"
      ]
    },
    {
      "cell_type": "code",
      "metadata": {
        "id": "AZkQS-ZdNLw5",
        "colab_type": "code",
        "colab": {}
      },
      "source": [
        "#MSSubClass=The building class\n",
        "x_train_test['MSSubClass'] = x_train_test['MSSubClass'].apply(str)\n",
        "\n",
        "#Changing OverallCond into a categorical variable\n",
        "x_train_test['OverallCond'] = x_train_test['OverallCond'].astype(str)\n",
        "\n",
        "#Year and month sold are transformed into categorical features.\n",
        "x_train_test['YrSold'] = x_train_test['YrSold'].astype(str)\n",
        "x_train_test['MoSold'] = x_train_test['MoSold'].astype(str)"
      ],
      "execution_count": 55,
      "outputs": []
    },
    {
      "cell_type": "markdown",
      "metadata": {
        "id": "HaSwXuYKNLw9",
        "colab_type": "text"
      },
      "source": [
        "**Label Encoding ordering set**"
      ]
    },
    {
      "cell_type": "code",
      "metadata": {
        "id": "UjHX3QdHNLw9",
        "colab_type": "code",
        "colab": {}
      },
      "source": [
        "from sklearn.preprocessing import LabelEncoder\n",
        "cols = ('FireplaceQu', 'BsmtQual', 'BsmtCond', 'GarageQual', 'GarageCond', \n",
        "        'ExterQual', 'ExterCond','HeatingQC', 'PoolQC', 'KitchenQual', 'BsmtFinType1', \n",
        "        'BsmtFinType2', 'Functional', 'Fence', 'BsmtExposure', 'GarageFinish', 'LandSlope',\n",
        "        'LotShape', 'PavedDrive', 'Street', 'Alley', 'CentralAir', 'MSSubClass', 'OverallCond', \n",
        "        'YrSold', 'MoSold')\n",
        "# process columns, apply LabelEncoder to categorical features\n",
        "for c in cols:\n",
        "    lbl = LabelEncoder() \n",
        "    lbl.fit(list(x_train_test[c].values)) \n",
        "    x_train_test[c] = lbl.transform(list(x_train_test[c].values))\n"
      ],
      "execution_count": 56,
      "outputs": []
    },
    {
      "cell_type": "code",
      "metadata": {
        "id": "Mjbah-xQNLxA",
        "colab_type": "code",
        "colab": {
          "base_uri": "https://localhost:8080/",
          "height": 253
        },
        "outputId": "37ae6aeb-4959-487a-a383-c52627018651"
      },
      "source": [
        "# For example, note how Street, Alley, Fence ... are encoded (compare with (pre-label encoding) table at the top of the notebook)\n",
        "x_train_test.head()"
      ],
      "execution_count": 57,
      "outputs": [
        {
          "output_type": "execute_result",
          "data": {
            "text/html": [
              "<div>\n",
              "<style scoped>\n",
              "    .dataframe tbody tr th:only-of-type {\n",
              "        vertical-align: middle;\n",
              "    }\n",
              "\n",
              "    .dataframe tbody tr th {\n",
              "        vertical-align: top;\n",
              "    }\n",
              "\n",
              "    .dataframe thead th {\n",
              "        text-align: right;\n",
              "    }\n",
              "</style>\n",
              "<table border=\"1\" class=\"dataframe\">\n",
              "  <thead>\n",
              "    <tr style=\"text-align: right;\">\n",
              "      <th></th>\n",
              "      <th>MSSubClass</th>\n",
              "      <th>MSZoning</th>\n",
              "      <th>LotFrontage</th>\n",
              "      <th>LotArea</th>\n",
              "      <th>Street</th>\n",
              "      <th>Alley</th>\n",
              "      <th>LotShape</th>\n",
              "      <th>LandContour</th>\n",
              "      <th>LotConfig</th>\n",
              "      <th>LandSlope</th>\n",
              "      <th>Neighborhood</th>\n",
              "      <th>Condition1</th>\n",
              "      <th>Condition2</th>\n",
              "      <th>BldgType</th>\n",
              "      <th>HouseStyle</th>\n",
              "      <th>OverallQual</th>\n",
              "      <th>OverallCond</th>\n",
              "      <th>YearBuilt</th>\n",
              "      <th>YearRemodAdd</th>\n",
              "      <th>RoofStyle</th>\n",
              "      <th>RoofMatl</th>\n",
              "      <th>Exterior1st</th>\n",
              "      <th>Exterior2nd</th>\n",
              "      <th>MasVnrType</th>\n",
              "      <th>MasVnrArea</th>\n",
              "      <th>ExterQual</th>\n",
              "      <th>ExterCond</th>\n",
              "      <th>Foundation</th>\n",
              "      <th>BsmtQual</th>\n",
              "      <th>BsmtCond</th>\n",
              "      <th>BsmtExposure</th>\n",
              "      <th>BsmtFinType1</th>\n",
              "      <th>BsmtFinSF1</th>\n",
              "      <th>BsmtFinType2</th>\n",
              "      <th>BsmtFinSF2</th>\n",
              "      <th>BsmtUnfSF</th>\n",
              "      <th>TotalBsmtSF</th>\n",
              "      <th>Heating</th>\n",
              "      <th>HeatingQC</th>\n",
              "      <th>CentralAir</th>\n",
              "      <th>...</th>\n",
              "      <th>LowQualFinSF</th>\n",
              "      <th>GrLivArea</th>\n",
              "      <th>BsmtFullBath</th>\n",
              "      <th>BsmtHalfBath</th>\n",
              "      <th>FullBath</th>\n",
              "      <th>HalfBath</th>\n",
              "      <th>BedroomAbvGr</th>\n",
              "      <th>KitchenAbvGr</th>\n",
              "      <th>KitchenQual</th>\n",
              "      <th>TotRmsAbvGrd</th>\n",
              "      <th>Functional</th>\n",
              "      <th>Fireplaces</th>\n",
              "      <th>FireplaceQu</th>\n",
              "      <th>GarageType</th>\n",
              "      <th>GarageYrBlt</th>\n",
              "      <th>GarageFinish</th>\n",
              "      <th>GarageCars</th>\n",
              "      <th>GarageArea</th>\n",
              "      <th>GarageQual</th>\n",
              "      <th>GarageCond</th>\n",
              "      <th>PavedDrive</th>\n",
              "      <th>WoodDeckSF</th>\n",
              "      <th>OpenPorchSF</th>\n",
              "      <th>EnclosedPorch</th>\n",
              "      <th>3SsnPorch</th>\n",
              "      <th>ScreenPorch</th>\n",
              "      <th>PoolArea</th>\n",
              "      <th>PoolQC</th>\n",
              "      <th>Fence</th>\n",
              "      <th>MiscFeature</th>\n",
              "      <th>MiscVal</th>\n",
              "      <th>MoSold</th>\n",
              "      <th>YrSold</th>\n",
              "      <th>SaleType</th>\n",
              "      <th>SaleCondition</th>\n",
              "      <th>TotalSF</th>\n",
              "      <th>Total_sqr_footage</th>\n",
              "      <th>Total_Bathrooms</th>\n",
              "      <th>YrBltAndRemod</th>\n",
              "      <th>Total_porch_sf</th>\n",
              "    </tr>\n",
              "  </thead>\n",
              "  <tbody>\n",
              "    <tr>\n",
              "      <th>0</th>\n",
              "      <td>10</td>\n",
              "      <td>RL</td>\n",
              "      <td>65.000</td>\n",
              "      <td>8450</td>\n",
              "      <td>1</td>\n",
              "      <td>1</td>\n",
              "      <td>3</td>\n",
              "      <td>Lvl</td>\n",
              "      <td>Inside</td>\n",
              "      <td>0</td>\n",
              "      <td>CollgCr</td>\n",
              "      <td>Norm</td>\n",
              "      <td>Norm</td>\n",
              "      <td>1Fam</td>\n",
              "      <td>2Story</td>\n",
              "      <td>7</td>\n",
              "      <td>4</td>\n",
              "      <td>2003</td>\n",
              "      <td>2003</td>\n",
              "      <td>Gable</td>\n",
              "      <td>CompShg</td>\n",
              "      <td>VinylSd</td>\n",
              "      <td>VinylSd</td>\n",
              "      <td>BrkFace</td>\n",
              "      <td>196.000</td>\n",
              "      <td>2</td>\n",
              "      <td>4</td>\n",
              "      <td>PConc</td>\n",
              "      <td>2</td>\n",
              "      <td>4</td>\n",
              "      <td>3</td>\n",
              "      <td>2</td>\n",
              "      <td>706.000</td>\n",
              "      <td>6</td>\n",
              "      <td>0.000</td>\n",
              "      <td>150.000</td>\n",
              "      <td>856.000</td>\n",
              "      <td>GasA</td>\n",
              "      <td>0</td>\n",
              "      <td>1</td>\n",
              "      <td>...</td>\n",
              "      <td>0</td>\n",
              "      <td>1710</td>\n",
              "      <td>1.000</td>\n",
              "      <td>0.000</td>\n",
              "      <td>2</td>\n",
              "      <td>1</td>\n",
              "      <td>3</td>\n",
              "      <td>1</td>\n",
              "      <td>2</td>\n",
              "      <td>8</td>\n",
              "      <td>6</td>\n",
              "      <td>0</td>\n",
              "      <td>3</td>\n",
              "      <td>Attchd</td>\n",
              "      <td>2003.000</td>\n",
              "      <td>2</td>\n",
              "      <td>2.000</td>\n",
              "      <td>548.000</td>\n",
              "      <td>5</td>\n",
              "      <td>5</td>\n",
              "      <td>2</td>\n",
              "      <td>0</td>\n",
              "      <td>61</td>\n",
              "      <td>0</td>\n",
              "      <td>0</td>\n",
              "      <td>0</td>\n",
              "      <td>0</td>\n",
              "      <td>3</td>\n",
              "      <td>4</td>\n",
              "      <td>None</td>\n",
              "      <td>0</td>\n",
              "      <td>4</td>\n",
              "      <td>2</td>\n",
              "      <td>WD</td>\n",
              "      <td>Normal</td>\n",
              "      <td>2566.000</td>\n",
              "      <td>2416.000</td>\n",
              "      <td>3.500</td>\n",
              "      <td>4006</td>\n",
              "      <td>61</td>\n",
              "    </tr>\n",
              "    <tr>\n",
              "      <th>1</th>\n",
              "      <td>5</td>\n",
              "      <td>RL</td>\n",
              "      <td>80.000</td>\n",
              "      <td>9600</td>\n",
              "      <td>1</td>\n",
              "      <td>1</td>\n",
              "      <td>3</td>\n",
              "      <td>Lvl</td>\n",
              "      <td>FR2</td>\n",
              "      <td>0</td>\n",
              "      <td>Veenker</td>\n",
              "      <td>Feedr</td>\n",
              "      <td>Norm</td>\n",
              "      <td>1Fam</td>\n",
              "      <td>1Story</td>\n",
              "      <td>6</td>\n",
              "      <td>7</td>\n",
              "      <td>1976</td>\n",
              "      <td>1976</td>\n",
              "      <td>Gable</td>\n",
              "      <td>CompShg</td>\n",
              "      <td>MetalSd</td>\n",
              "      <td>MetalSd</td>\n",
              "      <td>None</td>\n",
              "      <td>0.000</td>\n",
              "      <td>3</td>\n",
              "      <td>4</td>\n",
              "      <td>CBlock</td>\n",
              "      <td>2</td>\n",
              "      <td>4</td>\n",
              "      <td>1</td>\n",
              "      <td>0</td>\n",
              "      <td>978.000</td>\n",
              "      <td>6</td>\n",
              "      <td>0.000</td>\n",
              "      <td>284.000</td>\n",
              "      <td>1262.000</td>\n",
              "      <td>GasA</td>\n",
              "      <td>0</td>\n",
              "      <td>1</td>\n",
              "      <td>...</td>\n",
              "      <td>0</td>\n",
              "      <td>1262</td>\n",
              "      <td>0.000</td>\n",
              "      <td>1.000</td>\n",
              "      <td>2</td>\n",
              "      <td>0</td>\n",
              "      <td>3</td>\n",
              "      <td>1</td>\n",
              "      <td>3</td>\n",
              "      <td>6</td>\n",
              "      <td>6</td>\n",
              "      <td>1</td>\n",
              "      <td>5</td>\n",
              "      <td>Attchd</td>\n",
              "      <td>1976.000</td>\n",
              "      <td>2</td>\n",
              "      <td>2.000</td>\n",
              "      <td>460.000</td>\n",
              "      <td>5</td>\n",
              "      <td>5</td>\n",
              "      <td>2</td>\n",
              "      <td>298</td>\n",
              "      <td>0</td>\n",
              "      <td>0</td>\n",
              "      <td>0</td>\n",
              "      <td>0</td>\n",
              "      <td>0</td>\n",
              "      <td>3</td>\n",
              "      <td>4</td>\n",
              "      <td>None</td>\n",
              "      <td>0</td>\n",
              "      <td>7</td>\n",
              "      <td>1</td>\n",
              "      <td>WD</td>\n",
              "      <td>Normal</td>\n",
              "      <td>2524.000</td>\n",
              "      <td>2240.000</td>\n",
              "      <td>2.500</td>\n",
              "      <td>3952</td>\n",
              "      <td>298</td>\n",
              "    </tr>\n",
              "    <tr>\n",
              "      <th>2</th>\n",
              "      <td>10</td>\n",
              "      <td>RL</td>\n",
              "      <td>68.000</td>\n",
              "      <td>11250</td>\n",
              "      <td>1</td>\n",
              "      <td>1</td>\n",
              "      <td>0</td>\n",
              "      <td>Lvl</td>\n",
              "      <td>Inside</td>\n",
              "      <td>0</td>\n",
              "      <td>CollgCr</td>\n",
              "      <td>Norm</td>\n",
              "      <td>Norm</td>\n",
              "      <td>1Fam</td>\n",
              "      <td>2Story</td>\n",
              "      <td>7</td>\n",
              "      <td>4</td>\n",
              "      <td>2001</td>\n",
              "      <td>2002</td>\n",
              "      <td>Gable</td>\n",
              "      <td>CompShg</td>\n",
              "      <td>VinylSd</td>\n",
              "      <td>VinylSd</td>\n",
              "      <td>BrkFace</td>\n",
              "      <td>162.000</td>\n",
              "      <td>2</td>\n",
              "      <td>4</td>\n",
              "      <td>PConc</td>\n",
              "      <td>2</td>\n",
              "      <td>4</td>\n",
              "      <td>2</td>\n",
              "      <td>2</td>\n",
              "      <td>486.000</td>\n",
              "      <td>6</td>\n",
              "      <td>0.000</td>\n",
              "      <td>434.000</td>\n",
              "      <td>920.000</td>\n",
              "      <td>GasA</td>\n",
              "      <td>0</td>\n",
              "      <td>1</td>\n",
              "      <td>...</td>\n",
              "      <td>0</td>\n",
              "      <td>1786</td>\n",
              "      <td>1.000</td>\n",
              "      <td>0.000</td>\n",
              "      <td>2</td>\n",
              "      <td>1</td>\n",
              "      <td>3</td>\n",
              "      <td>1</td>\n",
              "      <td>2</td>\n",
              "      <td>6</td>\n",
              "      <td>6</td>\n",
              "      <td>1</td>\n",
              "      <td>5</td>\n",
              "      <td>Attchd</td>\n",
              "      <td>2001.000</td>\n",
              "      <td>2</td>\n",
              "      <td>2.000</td>\n",
              "      <td>608.000</td>\n",
              "      <td>5</td>\n",
              "      <td>5</td>\n",
              "      <td>2</td>\n",
              "      <td>0</td>\n",
              "      <td>42</td>\n",
              "      <td>0</td>\n",
              "      <td>0</td>\n",
              "      <td>0</td>\n",
              "      <td>0</td>\n",
              "      <td>3</td>\n",
              "      <td>4</td>\n",
              "      <td>None</td>\n",
              "      <td>0</td>\n",
              "      <td>11</td>\n",
              "      <td>2</td>\n",
              "      <td>WD</td>\n",
              "      <td>Normal</td>\n",
              "      <td>2706.000</td>\n",
              "      <td>2272.000</td>\n",
              "      <td>3.500</td>\n",
              "      <td>4003</td>\n",
              "      <td>42</td>\n",
              "    </tr>\n",
              "    <tr>\n",
              "      <th>3</th>\n",
              "      <td>11</td>\n",
              "      <td>RL</td>\n",
              "      <td>60.000</td>\n",
              "      <td>9550</td>\n",
              "      <td>1</td>\n",
              "      <td>1</td>\n",
              "      <td>0</td>\n",
              "      <td>Lvl</td>\n",
              "      <td>Corner</td>\n",
              "      <td>0</td>\n",
              "      <td>Crawfor</td>\n",
              "      <td>Norm</td>\n",
              "      <td>Norm</td>\n",
              "      <td>1Fam</td>\n",
              "      <td>2Story</td>\n",
              "      <td>7</td>\n",
              "      <td>4</td>\n",
              "      <td>1915</td>\n",
              "      <td>1970</td>\n",
              "      <td>Gable</td>\n",
              "      <td>CompShg</td>\n",
              "      <td>Wd Sdng</td>\n",
              "      <td>Wd Shng</td>\n",
              "      <td>None</td>\n",
              "      <td>0.000</td>\n",
              "      <td>3</td>\n",
              "      <td>4</td>\n",
              "      <td>BrkTil</td>\n",
              "      <td>4</td>\n",
              "      <td>1</td>\n",
              "      <td>3</td>\n",
              "      <td>0</td>\n",
              "      <td>216.000</td>\n",
              "      <td>6</td>\n",
              "      <td>0.000</td>\n",
              "      <td>540.000</td>\n",
              "      <td>756.000</td>\n",
              "      <td>GasA</td>\n",
              "      <td>2</td>\n",
              "      <td>1</td>\n",
              "      <td>...</td>\n",
              "      <td>0</td>\n",
              "      <td>1717</td>\n",
              "      <td>1.000</td>\n",
              "      <td>0.000</td>\n",
              "      <td>1</td>\n",
              "      <td>0</td>\n",
              "      <td>3</td>\n",
              "      <td>1</td>\n",
              "      <td>2</td>\n",
              "      <td>7</td>\n",
              "      <td>6</td>\n",
              "      <td>1</td>\n",
              "      <td>2</td>\n",
              "      <td>Detchd</td>\n",
              "      <td>1998.000</td>\n",
              "      <td>3</td>\n",
              "      <td>3.000</td>\n",
              "      <td>642.000</td>\n",
              "      <td>5</td>\n",
              "      <td>5</td>\n",
              "      <td>2</td>\n",
              "      <td>0</td>\n",
              "      <td>35</td>\n",
              "      <td>272</td>\n",
              "      <td>0</td>\n",
              "      <td>0</td>\n",
              "      <td>0</td>\n",
              "      <td>3</td>\n",
              "      <td>4</td>\n",
              "      <td>None</td>\n",
              "      <td>0</td>\n",
              "      <td>4</td>\n",
              "      <td>0</td>\n",
              "      <td>WD</td>\n",
              "      <td>Abnorml</td>\n",
              "      <td>2473.000</td>\n",
              "      <td>1933.000</td>\n",
              "      <td>2.000</td>\n",
              "      <td>3885</td>\n",
              "      <td>307</td>\n",
              "    </tr>\n",
              "    <tr>\n",
              "      <th>4</th>\n",
              "      <td>10</td>\n",
              "      <td>RL</td>\n",
              "      <td>84.000</td>\n",
              "      <td>14260</td>\n",
              "      <td>1</td>\n",
              "      <td>1</td>\n",
              "      <td>0</td>\n",
              "      <td>Lvl</td>\n",
              "      <td>FR2</td>\n",
              "      <td>0</td>\n",
              "      <td>NoRidge</td>\n",
              "      <td>Norm</td>\n",
              "      <td>Norm</td>\n",
              "      <td>1Fam</td>\n",
              "      <td>2Story</td>\n",
              "      <td>8</td>\n",
              "      <td>4</td>\n",
              "      <td>2000</td>\n",
              "      <td>2000</td>\n",
              "      <td>Gable</td>\n",
              "      <td>CompShg</td>\n",
              "      <td>VinylSd</td>\n",
              "      <td>VinylSd</td>\n",
              "      <td>BrkFace</td>\n",
              "      <td>350.000</td>\n",
              "      <td>2</td>\n",
              "      <td>4</td>\n",
              "      <td>PConc</td>\n",
              "      <td>2</td>\n",
              "      <td>4</td>\n",
              "      <td>0</td>\n",
              "      <td>2</td>\n",
              "      <td>655.000</td>\n",
              "      <td>6</td>\n",
              "      <td>0.000</td>\n",
              "      <td>490.000</td>\n",
              "      <td>1145.000</td>\n",
              "      <td>GasA</td>\n",
              "      <td>0</td>\n",
              "      <td>1</td>\n",
              "      <td>...</td>\n",
              "      <td>0</td>\n",
              "      <td>2198</td>\n",
              "      <td>1.000</td>\n",
              "      <td>0.000</td>\n",
              "      <td>2</td>\n",
              "      <td>1</td>\n",
              "      <td>4</td>\n",
              "      <td>1</td>\n",
              "      <td>2</td>\n",
              "      <td>9</td>\n",
              "      <td>6</td>\n",
              "      <td>1</td>\n",
              "      <td>5</td>\n",
              "      <td>Attchd</td>\n",
              "      <td>2000.000</td>\n",
              "      <td>2</td>\n",
              "      <td>3.000</td>\n",
              "      <td>836.000</td>\n",
              "      <td>5</td>\n",
              "      <td>5</td>\n",
              "      <td>2</td>\n",
              "      <td>192</td>\n",
              "      <td>84</td>\n",
              "      <td>0</td>\n",
              "      <td>0</td>\n",
              "      <td>0</td>\n",
              "      <td>0</td>\n",
              "      <td>3</td>\n",
              "      <td>4</td>\n",
              "      <td>None</td>\n",
              "      <td>0</td>\n",
              "      <td>3</td>\n",
              "      <td>2</td>\n",
              "      <td>WD</td>\n",
              "      <td>Normal</td>\n",
              "      <td>3343.000</td>\n",
              "      <td>2853.000</td>\n",
              "      <td>3.500</td>\n",
              "      <td>4000</td>\n",
              "      <td>276</td>\n",
              "    </tr>\n",
              "  </tbody>\n",
              "</table>\n",
              "<p>5 rows × 83 columns</p>\n",
              "</div>"
            ],
            "text/plain": [
              "   MSSubClass MSZoning  ...  YrBltAndRemod  Total_porch_sf\n",
              "0          10       RL  ...           4006              61\n",
              "1           5       RL  ...           3952             298\n",
              "2          10       RL  ...           4003              42\n",
              "3          11       RL  ...           3885             307\n",
              "4          10       RL  ...           4000             276\n",
              "\n",
              "[5 rows x 83 columns]"
            ]
          },
          "metadata": {
            "tags": []
          },
          "execution_count": 57
        }
      ]
    },
    {
      "cell_type": "code",
      "metadata": {
        "id": "7_U_m961cjLc",
        "colab_type": "code",
        "colab": {
          "base_uri": "https://localhost:8080/",
          "height": 34
        },
        "outputId": "1e216121-51ad-42b6-f9b6-5790352dcc49"
      },
      "source": [
        "x_train_test.shape"
      ],
      "execution_count": 58,
      "outputs": [
        {
          "output_type": "execute_result",
          "data": {
            "text/plain": [
              "(2917, 83)"
            ]
          },
          "metadata": {
            "tags": []
          },
          "execution_count": 58
        }
      ]
    },
    {
      "cell_type": "markdown",
      "metadata": {
        "id": "bqosOJ0INLxJ",
        "colab_type": "text"
      },
      "source": [
        "### Skewed features"
      ]
    },
    {
      "cell_type": "markdown",
      "metadata": {
        "id": "lDMi2DiP9HD6",
        "colab_type": "text"
      },
      "source": [
        "**Finding highly skewed features**"
      ]
    },
    {
      "cell_type": "code",
      "metadata": {
        "id": "CnnEp_RWNLxJ",
        "colab_type": "code",
        "colab": {
          "base_uri": "https://localhost:8080/",
          "height": 221
        },
        "outputId": "a26c22d1-255e-480f-ea55-784aee5e915d"
      },
      "source": [
        "x_train_test.dtypes"
      ],
      "execution_count": 59,
      "outputs": [
        {
          "output_type": "execute_result",
          "data": {
            "text/plain": [
              "MSSubClass             int64\n",
              "MSZoning              object\n",
              "LotFrontage          float64\n",
              "LotArea                int64\n",
              "Street                 int64\n",
              "                      ...   \n",
              "TotalSF              float64\n",
              "Total_sqr_footage    float64\n",
              "Total_Bathrooms      float64\n",
              "YrBltAndRemod          int64\n",
              "Total_porch_sf         int64\n",
              "Length: 83, dtype: object"
            ]
          },
          "metadata": {
            "tags": []
          },
          "execution_count": 59
        }
      ]
    },
    {
      "cell_type": "markdown",
      "metadata": {
        "id": "9O5jdIUnNLxM",
        "colab_type": "text"
      },
      "source": [
        "We now determine the skewness of the distributions of the numerical features (int64 and float64)."
      ]
    },
    {
      "cell_type": "code",
      "metadata": {
        "id": "DnuJEGFTNLxN",
        "colab_type": "code",
        "colab": {
          "base_uri": "https://localhost:8080/",
          "height": 410
        },
        "outputId": "c2b065c4-4346-4647-dd52-97a5b4c8165d"
      },
      "source": [
        "numeric_feats = x_train_test.dtypes[x_train_test.dtypes != \"object\"].index\n",
        "\n",
        "# Check the skew of all numerical features\n",
        "skewed_feats = x_train_test[numeric_feats].apply(lambda x: skew(x.dropna())).sort_values(ascending=False)\n",
        "print(\"\\nSkew in numerical features: \\n\")\n",
        "skewness = pd.DataFrame({'Skew' :skewed_feats})\n",
        "skewness.head(10)"
      ],
      "execution_count": 60,
      "outputs": [
        {
          "output_type": "stream",
          "text": [
            "\n",
            "Skew in numerical features: \n",
            "\n"
          ],
          "name": "stdout"
        },
        {
          "output_type": "execute_result",
          "data": {
            "text/html": [
              "<div>\n",
              "<style scoped>\n",
              "    .dataframe tbody tr th:only-of-type {\n",
              "        vertical-align: middle;\n",
              "    }\n",
              "\n",
              "    .dataframe tbody tr th {\n",
              "        vertical-align: top;\n",
              "    }\n",
              "\n",
              "    .dataframe thead th {\n",
              "        text-align: right;\n",
              "    }\n",
              "</style>\n",
              "<table border=\"1\" class=\"dataframe\">\n",
              "  <thead>\n",
              "    <tr style=\"text-align: right;\">\n",
              "      <th></th>\n",
              "      <th>Skew</th>\n",
              "    </tr>\n",
              "  </thead>\n",
              "  <tbody>\n",
              "    <tr>\n",
              "      <th>MiscVal</th>\n",
              "      <td>21.940</td>\n",
              "    </tr>\n",
              "    <tr>\n",
              "      <th>PoolArea</th>\n",
              "      <td>17.689</td>\n",
              "    </tr>\n",
              "    <tr>\n",
              "      <th>LotArea</th>\n",
              "      <td>13.109</td>\n",
              "    </tr>\n",
              "    <tr>\n",
              "      <th>LowQualFinSF</th>\n",
              "      <td>12.085</td>\n",
              "    </tr>\n",
              "    <tr>\n",
              "      <th>3SsnPorch</th>\n",
              "      <td>11.372</td>\n",
              "    </tr>\n",
              "    <tr>\n",
              "      <th>LandSlope</th>\n",
              "      <td>4.973</td>\n",
              "    </tr>\n",
              "    <tr>\n",
              "      <th>KitchenAbvGr</th>\n",
              "      <td>4.301</td>\n",
              "    </tr>\n",
              "    <tr>\n",
              "      <th>BsmtFinSF2</th>\n",
              "      <td>4.145</td>\n",
              "    </tr>\n",
              "    <tr>\n",
              "      <th>EnclosedPorch</th>\n",
              "      <td>4.002</td>\n",
              "    </tr>\n",
              "    <tr>\n",
              "      <th>ScreenPorch</th>\n",
              "      <td>3.945</td>\n",
              "    </tr>\n",
              "  </tbody>\n",
              "</table>\n",
              "</div>"
            ],
            "text/plain": [
              "                Skew\n",
              "MiscVal       21.940\n",
              "PoolArea      17.689\n",
              "LotArea       13.109\n",
              "LowQualFinSF  12.085\n",
              "3SsnPorch     11.372\n",
              "LandSlope      4.973\n",
              "KitchenAbvGr   4.301\n",
              "BsmtFinSF2     4.145\n",
              "EnclosedPorch  4.002\n",
              "ScreenPorch    3.945"
            ]
          },
          "metadata": {
            "tags": []
          },
          "execution_count": 60
        }
      ]
    },
    {
      "cell_type": "code",
      "metadata": {
        "id": "qyYavEo2NLxQ",
        "colab_type": "code",
        "colab": {
          "base_uri": "https://localhost:8080/",
          "height": 34
        },
        "outputId": "28f8ccad-ce34-40c1-b9eb-0bdeecf3fe05"
      },
      "source": [
        "skewness.shape"
      ],
      "execution_count": 61,
      "outputs": [
        {
          "output_type": "execute_result",
          "data": {
            "text/plain": [
              "(63, 1)"
            ]
          },
          "metadata": {
            "tags": []
          },
          "execution_count": 61
        }
      ]
    },
    {
      "cell_type": "markdown",
      "metadata": {
        "id": "q7iD0ZtpNLxS",
        "colab_type": "text"
      },
      "source": [
        "**Box-Cox-Transformation**"
      ]
    },
    {
      "cell_type": "code",
      "metadata": {
        "id": "8kMN9RMINLxT",
        "colab_type": "code",
        "colab": {
          "base_uri": "https://localhost:8080/",
          "height": 34
        },
        "outputId": "22858474-450a-4218-e4db-ee041ac1ac3c"
      },
      "source": [
        "skewness = skewness[abs(skewness) > 0.75]   \n",
        "print(\"There are {} skewed numerical features to Box Cox transform\".format(skewness.shape[0]))\n",
        "\n",
        "from scipy.special import boxcox1p\n",
        "skewed_features = skewness.index\n",
        "lam = 0.15\n",
        "for feat in skewed_features:\n",
        "    #x_train_test[feat] += 1\n",
        "    x_train_test[feat] = boxcox1p(x_train_test[feat], lam)\n",
        "    \n",
        "#x_train_test[skewed_features] = np.log1p(x_train_test[skewed_features])\n",
        "# of lambda= 0 that is also log transformation"
      ],
      "execution_count": 62,
      "outputs": [
        {
          "output_type": "stream",
          "text": [
            "There are 63 skewed numerical features to Box Cox transform\n"
          ],
          "name": "stdout"
        }
      ]
    },
    {
      "cell_type": "markdown",
      "metadata": {
        "id": "cZZjYp-6NLxc",
        "colab_type": "text"
      },
      "source": [
        "### Dummy categorical features"
      ]
    },
    {
      "cell_type": "code",
      "metadata": {
        "id": "2PkObCI1NLxd",
        "colab_type": "code",
        "colab": {
          "base_uri": "https://localhost:8080/",
          "height": 34
        },
        "outputId": "207538a9-4b94-4b04-b9e1-74a159f772e6"
      },
      "source": [
        "x_train_test = pd.get_dummies(x_train_test,drop_first=True)\n",
        "print(x_train_test.shape)"
      ],
      "execution_count": 63,
      "outputs": [
        {
          "output_type": "stream",
          "text": [
            "(2917, 204)\n"
          ],
          "name": "stdout"
        }
      ]
    },
    {
      "cell_type": "code",
      "metadata": {
        "id": "44h8GVp0NLxg",
        "colab_type": "code",
        "colab": {
          "base_uri": "https://localhost:8080/",
          "height": 253
        },
        "outputId": "a02b2002-5509-42d7-8c9e-74c094253a8c"
      },
      "source": [
        "x_train_test.head()   # it is interesting to compare this table below with its previous version above"
      ],
      "execution_count": 64,
      "outputs": [
        {
          "output_type": "execute_result",
          "data": {
            "text/html": [
              "<div>\n",
              "<style scoped>\n",
              "    .dataframe tbody tr th:only-of-type {\n",
              "        vertical-align: middle;\n",
              "    }\n",
              "\n",
              "    .dataframe tbody tr th {\n",
              "        vertical-align: top;\n",
              "    }\n",
              "\n",
              "    .dataframe thead th {\n",
              "        text-align: right;\n",
              "    }\n",
              "</style>\n",
              "<table border=\"1\" class=\"dataframe\">\n",
              "  <thead>\n",
              "    <tr style=\"text-align: right;\">\n",
              "      <th></th>\n",
              "      <th>MSSubClass</th>\n",
              "      <th>LotFrontage</th>\n",
              "      <th>LotArea</th>\n",
              "      <th>Street</th>\n",
              "      <th>Alley</th>\n",
              "      <th>LotShape</th>\n",
              "      <th>LandSlope</th>\n",
              "      <th>OverallQual</th>\n",
              "      <th>OverallCond</th>\n",
              "      <th>YearBuilt</th>\n",
              "      <th>YearRemodAdd</th>\n",
              "      <th>MasVnrArea</th>\n",
              "      <th>ExterQual</th>\n",
              "      <th>ExterCond</th>\n",
              "      <th>BsmtQual</th>\n",
              "      <th>BsmtCond</th>\n",
              "      <th>BsmtExposure</th>\n",
              "      <th>BsmtFinType1</th>\n",
              "      <th>BsmtFinSF1</th>\n",
              "      <th>BsmtFinType2</th>\n",
              "      <th>BsmtFinSF2</th>\n",
              "      <th>BsmtUnfSF</th>\n",
              "      <th>TotalBsmtSF</th>\n",
              "      <th>HeatingQC</th>\n",
              "      <th>CentralAir</th>\n",
              "      <th>1stFlrSF</th>\n",
              "      <th>2ndFlrSF</th>\n",
              "      <th>LowQualFinSF</th>\n",
              "      <th>GrLivArea</th>\n",
              "      <th>BsmtFullBath</th>\n",
              "      <th>BsmtHalfBath</th>\n",
              "      <th>FullBath</th>\n",
              "      <th>HalfBath</th>\n",
              "      <th>BedroomAbvGr</th>\n",
              "      <th>KitchenAbvGr</th>\n",
              "      <th>KitchenQual</th>\n",
              "      <th>TotRmsAbvGrd</th>\n",
              "      <th>Functional</th>\n",
              "      <th>Fireplaces</th>\n",
              "      <th>FireplaceQu</th>\n",
              "      <th>...</th>\n",
              "      <th>MasVnrType_BrkFace</th>\n",
              "      <th>MasVnrType_None</th>\n",
              "      <th>MasVnrType_Stone</th>\n",
              "      <th>Foundation_CBlock</th>\n",
              "      <th>Foundation_PConc</th>\n",
              "      <th>Foundation_Slab</th>\n",
              "      <th>Foundation_Stone</th>\n",
              "      <th>Foundation_Wood</th>\n",
              "      <th>Heating_GasA</th>\n",
              "      <th>Heating_GasW</th>\n",
              "      <th>Heating_Grav</th>\n",
              "      <th>Heating_OthW</th>\n",
              "      <th>Heating_Wall</th>\n",
              "      <th>Electrical_FuseF</th>\n",
              "      <th>Electrical_FuseP</th>\n",
              "      <th>Electrical_Mix</th>\n",
              "      <th>Electrical_SBrkr</th>\n",
              "      <th>GarageType_Attchd</th>\n",
              "      <th>GarageType_Basment</th>\n",
              "      <th>GarageType_BuiltIn</th>\n",
              "      <th>GarageType_CarPort</th>\n",
              "      <th>GarageType_Detchd</th>\n",
              "      <th>GarageType_None</th>\n",
              "      <th>MiscFeature_None</th>\n",
              "      <th>MiscFeature_Othr</th>\n",
              "      <th>MiscFeature_Shed</th>\n",
              "      <th>MiscFeature_TenC</th>\n",
              "      <th>SaleType_CWD</th>\n",
              "      <th>SaleType_Con</th>\n",
              "      <th>SaleType_ConLD</th>\n",
              "      <th>SaleType_ConLI</th>\n",
              "      <th>SaleType_ConLw</th>\n",
              "      <th>SaleType_New</th>\n",
              "      <th>SaleType_Oth</th>\n",
              "      <th>SaleType_WD</th>\n",
              "      <th>SaleCondition_AdjLand</th>\n",
              "      <th>SaleCondition_Alloca</th>\n",
              "      <th>SaleCondition_Family</th>\n",
              "      <th>SaleCondition_Normal</th>\n",
              "      <th>SaleCondition_Partial</th>\n",
              "    </tr>\n",
              "  </thead>\n",
              "  <tbody>\n",
              "    <tr>\n",
              "      <th>0</th>\n",
              "      <td>2.886</td>\n",
              "      <td>5.831</td>\n",
              "      <td>19.212</td>\n",
              "      <td>0.730</td>\n",
              "      <td>0.730</td>\n",
              "      <td>1.541</td>\n",
              "      <td>0.000</td>\n",
              "      <td>2.440</td>\n",
              "      <td>1.820</td>\n",
              "      <td>14.188</td>\n",
              "      <td>14.188</td>\n",
              "      <td>8.059</td>\n",
              "      <td>1.194</td>\n",
              "      <td>1.820</td>\n",
              "      <td>1.194</td>\n",
              "      <td>1.820</td>\n",
              "      <td>1.541</td>\n",
              "      <td>1.194</td>\n",
              "      <td>11.170</td>\n",
              "      <td>2.260</td>\n",
              "      <td>0.000</td>\n",
              "      <td>7.483</td>\n",
              "      <td>11.693</td>\n",
              "      <td>0.000</td>\n",
              "      <td>0.730</td>\n",
              "      <td>11.693</td>\n",
              "      <td>11.686</td>\n",
              "      <td>0.000</td>\n",
              "      <td>13.699</td>\n",
              "      <td>0.730</td>\n",
              "      <td>0.000</td>\n",
              "      <td>1.194</td>\n",
              "      <td>0.730</td>\n",
              "      <td>1.541</td>\n",
              "      <td>0.730</td>\n",
              "      <td>1.194</td>\n",
              "      <td>2.603</td>\n",
              "      <td>2.260</td>\n",
              "      <td>0.000</td>\n",
              "      <td>1.541</td>\n",
              "      <td>...</td>\n",
              "      <td>1</td>\n",
              "      <td>0</td>\n",
              "      <td>0</td>\n",
              "      <td>0</td>\n",
              "      <td>1</td>\n",
              "      <td>0</td>\n",
              "      <td>0</td>\n",
              "      <td>0</td>\n",
              "      <td>1</td>\n",
              "      <td>0</td>\n",
              "      <td>0</td>\n",
              "      <td>0</td>\n",
              "      <td>0</td>\n",
              "      <td>0</td>\n",
              "      <td>0</td>\n",
              "      <td>0</td>\n",
              "      <td>1</td>\n",
              "      <td>1</td>\n",
              "      <td>0</td>\n",
              "      <td>0</td>\n",
              "      <td>0</td>\n",
              "      <td>0</td>\n",
              "      <td>0</td>\n",
              "      <td>1</td>\n",
              "      <td>0</td>\n",
              "      <td>0</td>\n",
              "      <td>0</td>\n",
              "      <td>0</td>\n",
              "      <td>0</td>\n",
              "      <td>0</td>\n",
              "      <td>0</td>\n",
              "      <td>0</td>\n",
              "      <td>0</td>\n",
              "      <td>0</td>\n",
              "      <td>1</td>\n",
              "      <td>0</td>\n",
              "      <td>0</td>\n",
              "      <td>0</td>\n",
              "      <td>1</td>\n",
              "      <td>0</td>\n",
              "    </tr>\n",
              "    <tr>\n",
              "      <th>1</th>\n",
              "      <td>2.056</td>\n",
              "      <td>6.221</td>\n",
              "      <td>19.712</td>\n",
              "      <td>0.730</td>\n",
              "      <td>0.730</td>\n",
              "      <td>1.541</td>\n",
              "      <td>0.000</td>\n",
              "      <td>2.260</td>\n",
              "      <td>2.440</td>\n",
              "      <td>14.145</td>\n",
              "      <td>14.145</td>\n",
              "      <td>0.000</td>\n",
              "      <td>1.541</td>\n",
              "      <td>1.820</td>\n",
              "      <td>1.194</td>\n",
              "      <td>1.820</td>\n",
              "      <td>0.730</td>\n",
              "      <td>0.000</td>\n",
              "      <td>12.063</td>\n",
              "      <td>2.260</td>\n",
              "      <td>0.000</td>\n",
              "      <td>8.898</td>\n",
              "      <td>12.792</td>\n",
              "      <td>0.000</td>\n",
              "      <td>0.730</td>\n",
              "      <td>12.792</td>\n",
              "      <td>0.000</td>\n",
              "      <td>0.000</td>\n",
              "      <td>12.792</td>\n",
              "      <td>0.000</td>\n",
              "      <td>0.730</td>\n",
              "      <td>1.194</td>\n",
              "      <td>0.000</td>\n",
              "      <td>1.541</td>\n",
              "      <td>0.730</td>\n",
              "      <td>1.541</td>\n",
              "      <td>2.260</td>\n",
              "      <td>2.260</td>\n",
              "      <td>0.730</td>\n",
              "      <td>2.056</td>\n",
              "      <td>...</td>\n",
              "      <td>0</td>\n",
              "      <td>1</td>\n",
              "      <td>0</td>\n",
              "      <td>1</td>\n",
              "      <td>0</td>\n",
              "      <td>0</td>\n",
              "      <td>0</td>\n",
              "      <td>0</td>\n",
              "      <td>1</td>\n",
              "      <td>0</td>\n",
              "      <td>0</td>\n",
              "      <td>0</td>\n",
              "      <td>0</td>\n",
              "      <td>0</td>\n",
              "      <td>0</td>\n",
              "      <td>0</td>\n",
              "      <td>1</td>\n",
              "      <td>1</td>\n",
              "      <td>0</td>\n",
              "      <td>0</td>\n",
              "      <td>0</td>\n",
              "      <td>0</td>\n",
              "      <td>0</td>\n",
              "      <td>1</td>\n",
              "      <td>0</td>\n",
              "      <td>0</td>\n",
              "      <td>0</td>\n",
              "      <td>0</td>\n",
              "      <td>0</td>\n",
              "      <td>0</td>\n",
              "      <td>0</td>\n",
              "      <td>0</td>\n",
              "      <td>0</td>\n",
              "      <td>0</td>\n",
              "      <td>1</td>\n",
              "      <td>0</td>\n",
              "      <td>0</td>\n",
              "      <td>0</td>\n",
              "      <td>1</td>\n",
              "      <td>0</td>\n",
              "    </tr>\n",
              "    <tr>\n",
              "      <th>2</th>\n",
              "      <td>2.886</td>\n",
              "      <td>5.915</td>\n",
              "      <td>20.347</td>\n",
              "      <td>0.730</td>\n",
              "      <td>0.730</td>\n",
              "      <td>0.000</td>\n",
              "      <td>0.000</td>\n",
              "      <td>2.440</td>\n",
              "      <td>1.820</td>\n",
              "      <td>14.184</td>\n",
              "      <td>14.186</td>\n",
              "      <td>7.647</td>\n",
              "      <td>1.194</td>\n",
              "      <td>1.820</td>\n",
              "      <td>1.194</td>\n",
              "      <td>1.820</td>\n",
              "      <td>1.194</td>\n",
              "      <td>1.194</td>\n",
              "      <td>10.200</td>\n",
              "      <td>2.260</td>\n",
              "      <td>0.000</td>\n",
              "      <td>9.917</td>\n",
              "      <td>11.892</td>\n",
              "      <td>0.000</td>\n",
              "      <td>0.730</td>\n",
              "      <td>11.892</td>\n",
              "      <td>11.725</td>\n",
              "      <td>0.000</td>\n",
              "      <td>13.832</td>\n",
              "      <td>0.730</td>\n",
              "      <td>0.000</td>\n",
              "      <td>1.194</td>\n",
              "      <td>0.730</td>\n",
              "      <td>1.541</td>\n",
              "      <td>0.730</td>\n",
              "      <td>1.194</td>\n",
              "      <td>2.260</td>\n",
              "      <td>2.260</td>\n",
              "      <td>0.730</td>\n",
              "      <td>2.056</td>\n",
              "      <td>...</td>\n",
              "      <td>1</td>\n",
              "      <td>0</td>\n",
              "      <td>0</td>\n",
              "      <td>0</td>\n",
              "      <td>1</td>\n",
              "      <td>0</td>\n",
              "      <td>0</td>\n",
              "      <td>0</td>\n",
              "      <td>1</td>\n",
              "      <td>0</td>\n",
              "      <td>0</td>\n",
              "      <td>0</td>\n",
              "      <td>0</td>\n",
              "      <td>0</td>\n",
              "      <td>0</td>\n",
              "      <td>0</td>\n",
              "      <td>1</td>\n",
              "      <td>1</td>\n",
              "      <td>0</td>\n",
              "      <td>0</td>\n",
              "      <td>0</td>\n",
              "      <td>0</td>\n",
              "      <td>0</td>\n",
              "      <td>1</td>\n",
              "      <td>0</td>\n",
              "      <td>0</td>\n",
              "      <td>0</td>\n",
              "      <td>0</td>\n",
              "      <td>0</td>\n",
              "      <td>0</td>\n",
              "      <td>0</td>\n",
              "      <td>0</td>\n",
              "      <td>0</td>\n",
              "      <td>0</td>\n",
              "      <td>1</td>\n",
              "      <td>0</td>\n",
              "      <td>0</td>\n",
              "      <td>0</td>\n",
              "      <td>1</td>\n",
              "      <td>0</td>\n",
              "    </tr>\n",
              "    <tr>\n",
              "      <th>3</th>\n",
              "      <td>3.011</td>\n",
              "      <td>5.685</td>\n",
              "      <td>19.692</td>\n",
              "      <td>0.730</td>\n",
              "      <td>0.730</td>\n",
              "      <td>0.000</td>\n",
              "      <td>0.000</td>\n",
              "      <td>2.440</td>\n",
              "      <td>1.820</td>\n",
              "      <td>14.048</td>\n",
              "      <td>14.136</td>\n",
              "      <td>0.000</td>\n",
              "      <td>1.541</td>\n",
              "      <td>1.820</td>\n",
              "      <td>1.820</td>\n",
              "      <td>0.730</td>\n",
              "      <td>1.541</td>\n",
              "      <td>0.000</td>\n",
              "      <td>8.274</td>\n",
              "      <td>2.260</td>\n",
              "      <td>0.000</td>\n",
              "      <td>10.468</td>\n",
              "      <td>11.354</td>\n",
              "      <td>1.194</td>\n",
              "      <td>0.730</td>\n",
              "      <td>12.014</td>\n",
              "      <td>11.354</td>\n",
              "      <td>0.000</td>\n",
              "      <td>13.711</td>\n",
              "      <td>0.730</td>\n",
              "      <td>0.000</td>\n",
              "      <td>0.730</td>\n",
              "      <td>0.000</td>\n",
              "      <td>1.541</td>\n",
              "      <td>0.730</td>\n",
              "      <td>1.194</td>\n",
              "      <td>2.440</td>\n",
              "      <td>2.260</td>\n",
              "      <td>0.730</td>\n",
              "      <td>1.194</td>\n",
              "      <td>...</td>\n",
              "      <td>0</td>\n",
              "      <td>1</td>\n",
              "      <td>0</td>\n",
              "      <td>0</td>\n",
              "      <td>0</td>\n",
              "      <td>0</td>\n",
              "      <td>0</td>\n",
              "      <td>0</td>\n",
              "      <td>1</td>\n",
              "      <td>0</td>\n",
              "      <td>0</td>\n",
              "      <td>0</td>\n",
              "      <td>0</td>\n",
              "      <td>0</td>\n",
              "      <td>0</td>\n",
              "      <td>0</td>\n",
              "      <td>1</td>\n",
              "      <td>0</td>\n",
              "      <td>0</td>\n",
              "      <td>0</td>\n",
              "      <td>0</td>\n",
              "      <td>1</td>\n",
              "      <td>0</td>\n",
              "      <td>1</td>\n",
              "      <td>0</td>\n",
              "      <td>0</td>\n",
              "      <td>0</td>\n",
              "      <td>0</td>\n",
              "      <td>0</td>\n",
              "      <td>0</td>\n",
              "      <td>0</td>\n",
              "      <td>0</td>\n",
              "      <td>0</td>\n",
              "      <td>0</td>\n",
              "      <td>1</td>\n",
              "      <td>0</td>\n",
              "      <td>0</td>\n",
              "      <td>0</td>\n",
              "      <td>0</td>\n",
              "      <td>0</td>\n",
              "    </tr>\n",
              "    <tr>\n",
              "      <th>4</th>\n",
              "      <td>2.886</td>\n",
              "      <td>6.315</td>\n",
              "      <td>21.325</td>\n",
              "      <td>0.730</td>\n",
              "      <td>0.730</td>\n",
              "      <td>0.000</td>\n",
              "      <td>0.000</td>\n",
              "      <td>2.603</td>\n",
              "      <td>1.820</td>\n",
              "      <td>14.183</td>\n",
              "      <td>14.183</td>\n",
              "      <td>9.392</td>\n",
              "      <td>1.194</td>\n",
              "      <td>1.820</td>\n",
              "      <td>1.194</td>\n",
              "      <td>1.820</td>\n",
              "      <td>0.000</td>\n",
              "      <td>1.194</td>\n",
              "      <td>10.971</td>\n",
              "      <td>2.260</td>\n",
              "      <td>0.000</td>\n",
              "      <td>10.221</td>\n",
              "      <td>12.511</td>\n",
              "      <td>0.000</td>\n",
              "      <td>0.730</td>\n",
              "      <td>12.511</td>\n",
              "      <td>12.271</td>\n",
              "      <td>0.000</td>\n",
              "      <td>14.480</td>\n",
              "      <td>0.730</td>\n",
              "      <td>0.000</td>\n",
              "      <td>1.194</td>\n",
              "      <td>0.730</td>\n",
              "      <td>1.820</td>\n",
              "      <td>0.730</td>\n",
              "      <td>1.194</td>\n",
              "      <td>2.750</td>\n",
              "      <td>2.260</td>\n",
              "      <td>0.730</td>\n",
              "      <td>2.056</td>\n",
              "      <td>...</td>\n",
              "      <td>1</td>\n",
              "      <td>0</td>\n",
              "      <td>0</td>\n",
              "      <td>0</td>\n",
              "      <td>1</td>\n",
              "      <td>0</td>\n",
              "      <td>0</td>\n",
              "      <td>0</td>\n",
              "      <td>1</td>\n",
              "      <td>0</td>\n",
              "      <td>0</td>\n",
              "      <td>0</td>\n",
              "      <td>0</td>\n",
              "      <td>0</td>\n",
              "      <td>0</td>\n",
              "      <td>0</td>\n",
              "      <td>1</td>\n",
              "      <td>1</td>\n",
              "      <td>0</td>\n",
              "      <td>0</td>\n",
              "      <td>0</td>\n",
              "      <td>0</td>\n",
              "      <td>0</td>\n",
              "      <td>1</td>\n",
              "      <td>0</td>\n",
              "      <td>0</td>\n",
              "      <td>0</td>\n",
              "      <td>0</td>\n",
              "      <td>0</td>\n",
              "      <td>0</td>\n",
              "      <td>0</td>\n",
              "      <td>0</td>\n",
              "      <td>0</td>\n",
              "      <td>0</td>\n",
              "      <td>1</td>\n",
              "      <td>0</td>\n",
              "      <td>0</td>\n",
              "      <td>0</td>\n",
              "      <td>1</td>\n",
              "      <td>0</td>\n",
              "    </tr>\n",
              "  </tbody>\n",
              "</table>\n",
              "<p>5 rows × 204 columns</p>\n",
              "</div>"
            ],
            "text/plain": [
              "   MSSubClass  LotFrontage  ...  SaleCondition_Normal  SaleCondition_Partial\n",
              "0       2.886        5.831  ...                     1                      0\n",
              "1       2.056        6.221  ...                     1                      0\n",
              "2       2.886        5.915  ...                     1                      0\n",
              "3       3.011        5.685  ...                     0                      0\n",
              "4       2.886        6.315  ...                     1                      0\n",
              "\n",
              "[5 rows x 204 columns]"
            ]
          },
          "metadata": {
            "tags": []
          },
          "execution_count": 64
        }
      ]
    },
    {
      "cell_type": "markdown",
      "metadata": {
        "id": "UKAWrAmpNLxj",
        "colab_type": "text"
      },
      "source": [
        "Therefore, the new train and test data sets are:"
      ]
    },
    {
      "cell_type": "code",
      "metadata": {
        "id": "4d9ktnVeipgb",
        "colab_type": "code",
        "colab": {}
      },
      "source": [
        "x_train = x_train_test[:x_train_rows]\n",
        "x_test = x_train_test[x_train_rows:]\n"
      ],
      "execution_count": 65,
      "outputs": []
    },
    {
      "cell_type": "code",
      "metadata": {
        "id": "FWSbbRU7lsKq",
        "colab_type": "code",
        "colab": {
          "base_uri": "https://localhost:8080/",
          "height": 34
        },
        "outputId": "47dc801d-8bba-4de3-b2df-b7638d2842ce"
      },
      "source": [
        "x_train.shape"
      ],
      "execution_count": 66,
      "outputs": [
        {
          "output_type": "execute_result",
          "data": {
            "text/plain": [
              "(1458, 204)"
            ]
          },
          "metadata": {
            "tags": []
          },
          "execution_count": 66
        }
      ]
    },
    {
      "cell_type": "code",
      "metadata": {
        "id": "Fji5-V72rW7r",
        "colab_type": "code",
        "colab": {
          "base_uri": "https://localhost:8080/",
          "height": 419
        },
        "outputId": "aeb4d57b-3783-45f8-c722-975d68dc31bd"
      },
      "source": [
        "y_train"
      ],
      "execution_count": 67,
      "outputs": [
        {
          "output_type": "execute_result",
          "data": {
            "text/html": [
              "<div>\n",
              "<style scoped>\n",
              "    .dataframe tbody tr th:only-of-type {\n",
              "        vertical-align: middle;\n",
              "    }\n",
              "\n",
              "    .dataframe tbody tr th {\n",
              "        vertical-align: top;\n",
              "    }\n",
              "\n",
              "    .dataframe thead th {\n",
              "        text-align: right;\n",
              "    }\n",
              "</style>\n",
              "<table border=\"1\" class=\"dataframe\">\n",
              "  <thead>\n",
              "    <tr style=\"text-align: right;\">\n",
              "      <th></th>\n",
              "      <th>SalePrice</th>\n",
              "    </tr>\n",
              "  </thead>\n",
              "  <tbody>\n",
              "    <tr>\n",
              "      <th>0</th>\n",
              "      <td>12.248</td>\n",
              "    </tr>\n",
              "    <tr>\n",
              "      <th>1</th>\n",
              "      <td>12.109</td>\n",
              "    </tr>\n",
              "    <tr>\n",
              "      <th>2</th>\n",
              "      <td>12.317</td>\n",
              "    </tr>\n",
              "    <tr>\n",
              "      <th>3</th>\n",
              "      <td>11.849</td>\n",
              "    </tr>\n",
              "    <tr>\n",
              "      <th>4</th>\n",
              "      <td>12.429</td>\n",
              "    </tr>\n",
              "    <tr>\n",
              "      <th>...</th>\n",
              "      <td>...</td>\n",
              "    </tr>\n",
              "    <tr>\n",
              "      <th>1455</th>\n",
              "      <td>12.073</td>\n",
              "    </tr>\n",
              "    <tr>\n",
              "      <th>1456</th>\n",
              "      <td>12.255</td>\n",
              "    </tr>\n",
              "    <tr>\n",
              "      <th>1457</th>\n",
              "      <td>12.493</td>\n",
              "    </tr>\n",
              "    <tr>\n",
              "      <th>1458</th>\n",
              "      <td>11.864</td>\n",
              "    </tr>\n",
              "    <tr>\n",
              "      <th>1459</th>\n",
              "      <td>11.902</td>\n",
              "    </tr>\n",
              "  </tbody>\n",
              "</table>\n",
              "<p>1458 rows × 1 columns</p>\n",
              "</div>"
            ],
            "text/plain": [
              "      SalePrice\n",
              "0        12.248\n",
              "1        12.109\n",
              "2        12.317\n",
              "3        11.849\n",
              "4        12.429\n",
              "...         ...\n",
              "1455     12.073\n",
              "1456     12.255\n",
              "1457     12.493\n",
              "1458     11.864\n",
              "1459     11.902\n",
              "\n",
              "[1458 rows x 1 columns]"
            ]
          },
          "metadata": {
            "tags": []
          },
          "execution_count": 67
        }
      ]
    },
    {
      "cell_type": "code",
      "metadata": {
        "id": "GUCfjfm2c9lM",
        "colab_type": "code",
        "colab": {
          "base_uri": "https://localhost:8080/",
          "height": 34
        },
        "outputId": "3c9be289-9227-48a6-996e-8af4047d8582"
      },
      "source": [
        "x_test.shape"
      ],
      "execution_count": 68,
      "outputs": [
        {
          "output_type": "execute_result",
          "data": {
            "text/plain": [
              "(1459, 204)"
            ]
          },
          "metadata": {
            "tags": []
          },
          "execution_count": 68
        }
      ]
    },
    {
      "cell_type": "markdown",
      "metadata": {
        "id": "ZHX6USIcQBvs",
        "colab_type": "text"
      },
      "source": [
        "# Modeling"
      ]
    },
    {
      "cell_type": "code",
      "metadata": {
        "id": "Qp9zfF4rQIkG",
        "colab_type": "code",
        "colab": {}
      },
      "source": [
        "from sklearn.linear_model import LinearRegression\n",
        "from sklearn.linear_model import Lasso, MultiTaskLasso, LassoLars\n",
        "from sklearn.linear_model import Ridge, BayesianRidge\n",
        "from sklearn.linear_model import ElasticNet, MultiTaskElasticNet\n",
        "\n",
        "from sklearn.kernel_ridge import KernelRidge\n",
        "from sklearn.svm import SVR\n",
        "\n",
        "from sklearn.tree import DecisionTreeRegressor\n",
        "from sklearn.ensemble import RandomForestRegressor,  GradientBoostingRegressor\n",
        "import xgboost as xgb\n",
        "import lightgbm as lgb\n",
        "\n",
        "from sklearn.pipeline import make_pipeline\n",
        "from sklearn.preprocessing import RobustScaler, StandardScaler, PolynomialFeatures\n",
        "from sklearn.base import BaseEstimator, TransformerMixin, RegressorMixin, clone\n",
        "from sklearn.model_selection import KFold, RepeatedKFold, cross_val_score, train_test_split, GridSearchCV, RepeatedStratifiedKFold\n",
        "from sklearn.metrics import mean_squared_error\n",
        "from math import sqrt"
      ],
      "execution_count": 69,
      "outputs": []
    },
    {
      "cell_type": "markdown",
      "metadata": {
        "id": "uDDdMEOdRQls",
        "colab_type": "text"
      },
      "source": [
        "## Base Models"
      ]
    },
    {
      "cell_type": "code",
      "metadata": {
        "id": "Z8M9hBk5kzx9",
        "colab_type": "code",
        "colab": {}
      },
      "source": [
        "linearRegression = LinearRegression()"
      ],
      "execution_count": 70,
      "outputs": []
    },
    {
      "cell_type": "code",
      "metadata": {
        "id": "zHiZUSTJRUxh",
        "colab_type": "code",
        "colab": {}
      },
      "source": [
        "lasso = Lasso()\n",
        "lassoLars = LassoLars()\n",
        "multiTaskLasso = MultiTaskLasso()"
      ],
      "execution_count": 71,
      "outputs": []
    },
    {
      "cell_type": "code",
      "metadata": {
        "id": "Kapuf6nI7QTC",
        "colab_type": "code",
        "colab": {}
      },
      "source": [
        "ridge = Ridge()\n",
        "kernelRidge = KernelRidge() "
      ],
      "execution_count": 72,
      "outputs": []
    },
    {
      "cell_type": "code",
      "metadata": {
        "id": "XhrQTOkUSf-_",
        "colab_type": "code",
        "colab": {}
      },
      "source": [
        "elasticNet = ElasticNet()\n",
        "multiTaskElasticNet = MultiTaskElasticNet()"
      ],
      "execution_count": 73,
      "outputs": []
    },
    {
      "cell_type": "code",
      "metadata": {
        "id": "7sjqOmskSVOL",
        "colab_type": "code",
        "colab": {}
      },
      "source": [
        "svr = SVR()"
      ],
      "execution_count": 74,
      "outputs": []
    },
    {
      "cell_type": "code",
      "metadata": {
        "id": "FseNlAgP_TRX",
        "colab_type": "code",
        "colab": {}
      },
      "source": [
        "decisionTree =  DecisionTreeRegressor()"
      ],
      "execution_count": 75,
      "outputs": []
    },
    {
      "cell_type": "code",
      "metadata": {
        "id": "chzLtg46_7sx",
        "colab_type": "code",
        "colab": {}
      },
      "source": [
        "randomForest = RandomForestRegressor()\n"
      ],
      "execution_count": 76,
      "outputs": []
    },
    {
      "cell_type": "code",
      "metadata": {
        "id": "M6ydNgJjTES7",
        "colab_type": "code",
        "colab": {}
      },
      "source": [
        "GBoost = GradientBoostingRegressor()"
      ],
      "execution_count": 77,
      "outputs": []
    },
    {
      "cell_type": "code",
      "metadata": {
        "id": "RQnofYH6TMkp",
        "colab_type": "code",
        "colab": {}
      },
      "source": [
        "xgb = xgb.XGBRegressor()"
      ],
      "execution_count": 78,
      "outputs": []
    },
    {
      "cell_type": "code",
      "metadata": {
        "id": "dVsVQuICTU5D",
        "colab_type": "code",
        "colab": {}
      },
      "source": [
        "lgb = lgb.LGBMRegressor()"
      ],
      "execution_count": 79,
      "outputs": []
    },
    {
      "cell_type": "markdown",
      "metadata": {
        "id": "a250UgJjj_Dw",
        "colab_type": "text"
      },
      "source": [
        "## Hyperparameter Tuning"
      ]
    },
    {
      "cell_type": "code",
      "metadata": {
        "id": "5W-TSKqekFep",
        "colab_type": "code",
        "colab": {
          "base_uri": "https://localhost:8080/",
          "height": 85
        },
        "outputId": "fad3f8f9-b198-419a-8a59-4837a40c3587"
      },
      "source": [
        "#Lasso\n",
        "lasso_params = { \n",
        "    'alpha': [ 0.0002]\n",
        "    } \n",
        "\n",
        "cv = RepeatedKFold(n_splits=5, n_repeats=5, random_state=None)\n",
        "lasso_model = GridSearchCV( estimator=lasso, param_grid=lasso_params, cv=cv )\n",
        "\n",
        "lasso_model = lasso_model.fit(x_train, y_train)\n",
        "\n",
        "print(lasso_model.best_score_ * 100)\n",
        "print(lasso_model.best_estimator_)"
      ],
      "execution_count": 80,
      "outputs": [
        {
          "output_type": "stream",
          "text": [
            "91.67416124127195\n",
            "Lasso(alpha=0.0002, copy_X=True, fit_intercept=True, max_iter=1000,\n",
            "      normalize=False, positive=False, precompute=False, random_state=None,\n",
            "      selection='cyclic', tol=0.0001, warm_start=False)\n"
          ],
          "name": "stdout"
        }
      ]
    },
    {
      "cell_type": "code",
      "metadata": {
        "id": "E36VX9Pj_NEi",
        "colab_type": "code",
        "colab": {
          "base_uri": "https://localhost:8080/",
          "height": 85
        },
        "outputId": "af8a7169-c134-4616-c481-dcef6fa83ad7"
      },
      "source": [
        "#MultiTaskLasso\n",
        "multiTaskLasso_params = { \n",
        "    'alpha': [0.0002]\n",
        "    } \n",
        "\n",
        "cv = KFold(n_splits=5, shuffle=True, random_state=1)\n",
        "multiTaskLasso_model = GridSearchCV(estimator=multiTaskLasso, param_grid=lasso_params, cv=cv,\n",
        "              )\n",
        "\n",
        "multiTaskLasso_model = multiTaskLasso_model.fit(x_train, y_train)\n",
        "\n",
        "print(multiTaskLasso_model.best_score_ * 100)\n",
        "print(multiTaskLasso_model.best_estimator_)"
      ],
      "execution_count": 81,
      "outputs": [
        {
          "output_type": "stream",
          "text": [
            "91.79494556260413\n",
            "MultiTaskLasso(alpha=0.0002, copy_X=True, fit_intercept=True, max_iter=1000,\n",
            "               normalize=False, random_state=None, selection='cyclic',\n",
            "               tol=0.0001, warm_start=False)\n"
          ],
          "name": "stdout"
        }
      ]
    },
    {
      "cell_type": "code",
      "metadata": {
        "id": "euOmiE3L-Zou",
        "colab_type": "code",
        "colab": {
          "base_uri": "https://localhost:8080/",
          "height": 85
        },
        "outputId": "d57c4883-6fc2-4c71-ddbe-ae996d02eb71"
      },
      "source": [
        "#LassoLars\n",
        "lassoLars_params = { \n",
        "    'alpha': [ 0.0002 ]\n",
        "    } \n",
        "\n",
        "cv = KFold(n_splits=5, shuffle=True, random_state=1)\n",
        "lassoLars_model = GridSearchCV(estimator=lassoLars, param_grid=lasso_params, cv=cv,\n",
        "              )\n",
        "\n",
        "lassoLars_model = lassoLars_model.fit(x_train, y_train)\n",
        "\n",
        "print(lassoLars_model.best_score_ * 100)\n",
        "print(lassoLars_model.best_estimator_)"
      ],
      "execution_count": 82,
      "outputs": [
        {
          "output_type": "stream",
          "text": [
            "91.4350734481745\n",
            "LassoLars(alpha=0.0002, copy_X=True, eps=2.220446049250313e-16,\n",
            "          fit_intercept=True, fit_path=True, max_iter=500, normalize=True,\n",
            "          positive=False, precompute='auto', verbose=False)\n"
          ],
          "name": "stdout"
        }
      ]
    },
    {
      "cell_type": "code",
      "metadata": {
        "id": "Y3hz3BAu3qF7",
        "colab_type": "code",
        "colab": {
          "base_uri": "https://localhost:8080/",
          "height": 68
        },
        "outputId": "4d2904ed-deff-4f3a-fc51-d29eac3d39d0"
      },
      "source": [
        "#Ridge\n",
        "\n",
        "ridge_params = { \n",
        "    'alpha': [  5.4 ]\n",
        "    }\n",
        "\n",
        "cv = KFold(n_splits=5, shuffle=True, random_state=1)\n",
        "ridge_model = GridSearchCV(estimator=ridge, param_grid=ridge_params, cv=cv)\n",
        "\n",
        "ridge_model.fit(x_train, y_train)\n",
        "\n",
        "print(ridge_model.best_score_ * 100)\n",
        "print(ridge_model.best_estimator_)"
      ],
      "execution_count": 83,
      "outputs": [
        {
          "output_type": "stream",
          "text": [
            "91.6431926798375\n",
            "Ridge(alpha=5.4, copy_X=True, fit_intercept=True, max_iter=None,\n",
            "      normalize=False, random_state=None, solver='auto', tol=0.001)\n"
          ],
          "name": "stdout"
        }
      ]
    },
    {
      "cell_type": "code",
      "metadata": {
        "id": "vBMhaBi0tCxD",
        "colab_type": "code",
        "colab": {
          "base_uri": "https://localhost:8080/",
          "height": 68
        },
        "outputId": "071ecd71-6415-44ae-c9ce-0b31cafbb53e"
      },
      "source": [
        "#KernelRidge\n",
        "\n",
        "kernelRidge_params = { \n",
        "    'alpha': [7],\n",
        "    'kernel': ['polynomial']\n",
        "    }\n",
        "\n",
        "cv = KFold(n_splits=5,shuffle=True, random_state=1)\n",
        "kernelRidge_model = GridSearchCV(estimator=kernelRidge, param_grid=kernelRidge_params, cv=cv)\n",
        "\n",
        "kernelRidge_model.fit(x_train, y_train)\n",
        "\n",
        "print(kernelRidge_model.best_score_ * 100)\n",
        "print(kernelRidge_model.best_estimator_)"
      ],
      "execution_count": 84,
      "outputs": [
        {
          "output_type": "stream",
          "text": [
            "90.74573670232097\n",
            "KernelRidge(alpha=7, coef0=1, degree=3, gamma=None, kernel='polynomial',\n",
            "            kernel_params=None)\n"
          ],
          "name": "stdout"
        }
      ]
    },
    {
      "cell_type": "code",
      "metadata": {
        "id": "FMc0DzIfAmZY",
        "colab_type": "code",
        "colab": {
          "base_uri": "https://localhost:8080/",
          "height": 85
        },
        "outputId": "5164e837-4747-467b-aa8b-a367c0f7f519"
      },
      "source": [
        "#ElasticNet\n",
        "\n",
        "elasticNet_params = { \n",
        "    'alpha': [0.001]\n",
        "    }\n",
        "\n",
        "cv = KFold(n_splits=5,shuffle=True, random_state=1)\n",
        "elasticNet_model = GridSearchCV(estimator=elasticNet, param_grid=elasticNet_params, cv=cv)\n",
        "\n",
        "elasticNet_model.fit(x_train, y_train)\n",
        "\n",
        "print(elasticNet_model.best_score_ * 100)\n",
        "print(elasticNet_model.best_estimator_)"
      ],
      "execution_count": 85,
      "outputs": [
        {
          "output_type": "stream",
          "text": [
            "91.56885670918933\n",
            "ElasticNet(alpha=0.001, copy_X=True, fit_intercept=True, l1_ratio=0.5,\n",
            "           max_iter=1000, normalize=False, positive=False, precompute=False,\n",
            "           random_state=None, selection='cyclic', tol=0.0001, warm_start=False)\n"
          ],
          "name": "stdout"
        }
      ]
    },
    {
      "cell_type": "code",
      "metadata": {
        "id": "VhF2hcPCByU8",
        "colab_type": "code",
        "colab": {
          "base_uri": "https://localhost:8080/",
          "height": 85
        },
        "outputId": "d45765b3-31ff-4e0b-e347-0fd0826678f6"
      },
      "source": [
        "#MultiTaskElasticNet\n",
        "\n",
        "multiTaskElasticNet_params = { \n",
        "    'alpha': [.001],\n",
        "    'l1_ratio': [0.4] # Should be\n",
        "    }\n",
        "\n",
        "cv = KFold(n_splits=5,shuffle=True, random_state=1)\n",
        "multiTaskElasticNet_model =  GridSearchCV(estimator=multiTaskElasticNet, param_grid=multiTaskElasticNet_params, cv=cv)\n",
        "\n",
        "multiTaskElasticNet_model.fit(x_train, y_train)\n",
        "\n",
        "print(multiTaskElasticNet_model.best_score_ * 100)\n",
        "print(multiTaskElasticNet_model.best_estimator_)"
      ],
      "execution_count": 86,
      "outputs": [
        {
          "output_type": "stream",
          "text": [
            "91.57652606502488\n",
            "MultiTaskElasticNet(alpha=0.001, copy_X=True, fit_intercept=True, l1_ratio=0.4,\n",
            "                    max_iter=1000, normalize=False, random_state=None,\n",
            "                    selection='cyclic', tol=0.0001, warm_start=False)\n"
          ],
          "name": "stdout"
        }
      ]
    },
    {
      "cell_type": "code",
      "metadata": {
        "id": "SYxhi1HAShHm",
        "colab_type": "code",
        "colab": {
          "base_uri": "https://localhost:8080/",
          "height": 68
        },
        "outputId": "890ccbbf-45cc-4cf5-a1b6-b21fdc8a0af4"
      },
      "source": [
        "#SVR\n",
        "\n",
        "svr_params = {\n",
        "    'C': [ 18.2 ],\n",
        "    'epsilon': [0.02],\n",
        "    'kernel': ['poly']\n",
        "    }\n",
        "\n",
        "cv = KFold(n_splits=5,shuffle=True, random_state=1)\n",
        "svr_model =  GridSearchCV(estimator=svr, param_grid=svr_params, cv=cv)\n",
        "\n",
        "svr_model.fit(x_train, y_train)\n",
        "\n",
        "print(svr_model.best_score_ * 100)\n",
        "print(svr_model.best_estimator_)"
      ],
      "execution_count": 87,
      "outputs": [
        {
          "output_type": "stream",
          "text": [
            "91.48807291061644\n",
            "SVR(C=18.2, cache_size=200, coef0=0.0, degree=3, epsilon=0.02, gamma='scale',\n",
            "    kernel='poly', max_iter=-1, shrinking=True, tol=0.001, verbose=False)\n"
          ],
          "name": "stdout"
        }
      ]
    },
    {
      "cell_type": "code",
      "metadata": {
        "id": "F9fm0MoW2TL6",
        "colab_type": "code",
        "colab": {
          "base_uri": "https://localhost:8080/",
          "height": 136
        },
        "outputId": "32f053ca-d886-4716-84de-1856b5023097"
      },
      "source": [
        "#DecisionTree\n",
        "\n",
        "decisionTree_params = {\n",
        "    'criterion' : ['friedman_mse'],\n",
        "    'splitter' : ['best'],\n",
        "    'max_depth' : [6],\n",
        "    'max_features' : ['auto'],\n",
        "    }\n",
        "\n",
        "cv = KFold(n_splits=5,shuffle=True, random_state=1)\n",
        "decisionTree_model =  GridSearchCV(estimator=decisionTree, param_grid=decisionTree_params, cv=cv)\n",
        "\n",
        "decisionTree_model.fit(x_train, y_train)\n",
        "\n",
        "print(decisionTree_model.best_score_ * 100)\n",
        "print(decisionTree_model.best_estimator_)"
      ],
      "execution_count": 88,
      "outputs": [
        {
          "output_type": "stream",
          "text": [
            "78.06992255531829\n",
            "DecisionTreeRegressor(ccp_alpha=0.0, criterion='friedman_mse', max_depth=6,\n",
            "                      max_features='auto', max_leaf_nodes=None,\n",
            "                      min_impurity_decrease=0.0, min_impurity_split=None,\n",
            "                      min_samples_leaf=1, min_samples_split=2,\n",
            "                      min_weight_fraction_leaf=0.0, presort='deprecated',\n",
            "                      random_state=None, splitter='best')\n"
          ],
          "name": "stdout"
        }
      ]
    },
    {
      "cell_type": "code",
      "metadata": {
        "id": "iF2ZwDdX7VPW",
        "colab_type": "code",
        "colab": {
          "base_uri": "https://localhost:8080/",
          "height": 153
        },
        "outputId": "11f757bb-d4f2-4d1a-dec7-3e4c7e6792be"
      },
      "source": [
        "#RandomForest 86.988864811659, 89.1\n",
        "randomForest_params = {\n",
        "  \"n_estimators\": [ 1000 ],\n",
        "  \"max_features\"      : ['sqrt'],\n",
        "  \"min_samples_split\" : [4],\n",
        "  \"bootstrap\": [False]\n",
        "  }\n",
        "\n",
        "cv = KFold(n_splits=5,shuffle=True, random_state=1)\n",
        "randomForest_model =  GridSearchCV(estimator=randomForest, param_grid=randomForest_params, cv=cv)\n",
        "\n",
        "randomForest_model.fit(x_train, y_train)\n",
        "\n",
        "print(randomForest_model.best_score_ * 100)\n",
        "print(randomForest_model.best_estimator_)"
      ],
      "execution_count": 89,
      "outputs": [
        {
          "output_type": "stream",
          "text": [
            "89.10437213199636\n",
            "RandomForestRegressor(bootstrap=False, ccp_alpha=0.0, criterion='mse',\n",
            "                      max_depth=None, max_features='sqrt', max_leaf_nodes=None,\n",
            "                      max_samples=None, min_impurity_decrease=0.0,\n",
            "                      min_impurity_split=None, min_samples_leaf=1,\n",
            "                      min_samples_split=4, min_weight_fraction_leaf=0.0,\n",
            "                      n_estimators=1000, n_jobs=None, oob_score=False,\n",
            "                      random_state=None, verbose=0, warm_start=False)\n"
          ],
          "name": "stdout"
        }
      ]
    },
    {
      "cell_type": "code",
      "metadata": {
        "id": "omTaGsgqFZPJ",
        "colab_type": "code",
        "colab": {
          "base_uri": "https://localhost:8080/",
          "height": 187
        },
        "outputId": "b8606191-235b-4069-a4b8-f20c5b2eb0c4"
      },
      "source": [
        "#GBoost\n",
        "# GradientBoostingRegressor(alpha=0.9, ccp_alpha=0.0, criterion='friedman_mse',\n",
        "#                           init=None, learning_rate=0.1, loss='ls', max_depth=3,\n",
        "#                           max_features=None, max_leaf_nodes=None,\n",
        "#                           min_impurity_decrease=0.0, min_impurity_split=None,\n",
        "#                           min_samples_leaf=1, min_samples_split=2,\n",
        "#                           min_weight_fraction_leaf=0.0, n_estimators=100,\n",
        "#                           n_iter_no_change=None, presort='deprecated',\n",
        "#                           random_state=None, subsample=1.0, tol=0.0001,\n",
        "#                           validation_fraction=0.1, verbose=0, warm_start=False)\n",
        "# 90.57744115467223\n",
        "#n_estimators 300 90.88860765008269\n",
        "90.85196866881728\n",
        "\n",
        "GBoost_params = {\n",
        "    \"n_estimators\": [350, 500],\n",
        "    \"learning_rate\": [0.1, 0.5]\n",
        "  }\n",
        "\n",
        "cv = KFold(n_splits=5)\n",
        "GBoost_model =  GridSearchCV(estimator=GBoost, param_grid=GBoost_params, cv=cv)\n",
        "\n",
        "GBoost_model.fit(x_train, y_train)\n",
        "\n",
        "print(GBoost_model.best_score_ * 100)\n",
        "print(GBoost_model.best_estimator_)"
      ],
      "execution_count": 90,
      "outputs": [
        {
          "output_type": "stream",
          "text": [
            "90.66545943485339\n",
            "GradientBoostingRegressor(alpha=0.9, ccp_alpha=0.0, criterion='friedman_mse',\n",
            "                          init=None, learning_rate=0.1, loss='ls', max_depth=3,\n",
            "                          max_features=None, max_leaf_nodes=None,\n",
            "                          min_impurity_decrease=0.0, min_impurity_split=None,\n",
            "                          min_samples_leaf=1, min_samples_split=2,\n",
            "                          min_weight_fraction_leaf=0.0, n_estimators=500,\n",
            "                          n_iter_no_change=None, presort='deprecated',\n",
            "                          random_state=None, subsample=1.0, tol=0.0001,\n",
            "                          validation_fraction=0.1, verbose=0, warm_start=False)\n"
          ],
          "name": "stdout"
        }
      ]
    },
    {
      "cell_type": "code",
      "metadata": {
        "id": "G3kmIGgkGkHN",
        "colab_type": "code",
        "colab": {
          "base_uri": "https://localhost:8080/",
          "height": 275
        },
        "outputId": "42cb3e4e-7dee-4d24-bf61-d0026d350895"
      },
      "source": [
        "#XGB\n",
        "\n",
        "# Default Score\n",
        "# XGBRegressor(base_score=0.5, booster='gbtree', colsample_bylevel=1,\n",
        "#              colsample_bynode=1, colsample_bytree=1, gamma=0,\n",
        "#              importance_type='gain', learning_rate=0.1, max_delta_step=0,\n",
        "#              max_depth=3, min_child_weight=1, missing=None, n_estimators=100,\n",
        "#              n_jobs=1, nthread=None, objective='reg:linear', random_state=0,\n",
        "#              reg_alpha=0, reg_lambda=1, scale_pos_weight=1, seed=None,\n",
        "#              silent=None, subsample=1, verbosity=1)\n",
        "\n",
        "\n",
        "#GBoost 90.75033182424414\n",
        "#n_estimators 1000 -> 91.20725055569056\n",
        "#n_estimators 900     91.21\n",
        "#n_estimators 650     91.22\n",
        "#gamma 0.01           91.3328644961757\n",
        "#learning_rate 0.05   91.5152778258778\n",
        "#learning_rate 0.04   91.58987223363953\n",
        "\n",
        "#no change: colsample_bytree, colsample_bylevel, colsample_bynode\n",
        "#no change: scale_pos_weight, min_child_weight\n",
        "#no change: reg_alpha, reg_lambda but not gamma\n",
        "\n",
        "#Effective: n_estimators, learning_rate, gamma \n",
        "\n",
        "\n",
        "xgb_params = {\n",
        "    \"n_jobs\" : [-1],\n",
        "    \"n_estimators\" : [650],\n",
        "    \"gamma\" : [0.01],\n",
        "    \"learning_rate\" : [0.04],\n",
        "    \"reg_alpha\" : [0],         # no change\n",
        "    \"reg_lambda\" : [1],        # no change\n",
        "    \"colsample_bytree\" : [1],  # no change \n",
        "    \"colsample_bylevel\" : [1], # no change\n",
        "    \"max_depth\" : [3],         # no change \n",
        "\n",
        "}\n",
        "\n",
        "cv = KFold(n_splits=5, shuffle=True, random_state=1)\n",
        "xgb_model =  GridSearchCV(estimator=xgb, param_grid= xgb_params, cv=cv)\n",
        "\n",
        "xgb_model.fit(x_train, y_train)\n",
        "\n",
        "print(xgb_model.best_score_ * 100)\n",
        "print(xgb_model.best_estimator_)"
      ],
      "execution_count": 91,
      "outputs": [
        {
          "output_type": "stream",
          "text": [
            "[04:38:21] WARNING: /workspace/src/objective/regression_obj.cu:152: reg:linear is now deprecated in favor of reg:squarederror.\n",
            "[04:38:24] WARNING: /workspace/src/objective/regression_obj.cu:152: reg:linear is now deprecated in favor of reg:squarederror.\n",
            "[04:38:27] WARNING: /workspace/src/objective/regression_obj.cu:152: reg:linear is now deprecated in favor of reg:squarederror.\n",
            "[04:38:30] WARNING: /workspace/src/objective/regression_obj.cu:152: reg:linear is now deprecated in favor of reg:squarederror.\n",
            "[04:38:32] WARNING: /workspace/src/objective/regression_obj.cu:152: reg:linear is now deprecated in favor of reg:squarederror.\n",
            "[04:38:35] WARNING: /workspace/src/objective/regression_obj.cu:152: reg:linear is now deprecated in favor of reg:squarederror.\n",
            "91.58987223363953\n",
            "XGBRegressor(base_score=0.5, booster='gbtree', colsample_bylevel=1,\n",
            "             colsample_bynode=1, colsample_bytree=1, gamma=0.01,\n",
            "             importance_type='gain', learning_rate=0.04, max_delta_step=0,\n",
            "             max_depth=3, min_child_weight=1, missing=None, n_estimators=650,\n",
            "             n_jobs=-1, nthread=None, objective='reg:linear', random_state=0,\n",
            "             reg_alpha=0, reg_lambda=1, scale_pos_weight=1, seed=None,\n",
            "             silent=None, subsample=1, verbosity=1)\n"
          ],
          "name": "stdout"
        }
      ]
    },
    {
      "cell_type": "code",
      "metadata": {
        "id": "t5CwgARyutVd",
        "colab_type": "code",
        "colab": {
          "base_uri": "https://localhost:8080/",
          "height": 136
        },
        "outputId": "df402f2a-0d11-4f86-a88f-7740e1b4b261"
      },
      "source": [
        "# LightGBM\n",
        "# objective='regression',num_leaves=5,\n",
        "#                               learning_rate=0.05, n_estimators=720,\n",
        "#                               max_bin = 55, bagging_fraction = 0.8,\n",
        "#                               bagging_freq = 5, feature_fraction = 0.2319,\n",
        "#                               feature_fraction_seed=9, bagging_seed=9,\n",
        "#                               min_data_in_leaf =6, min_sum_hessian_in_leaf = 11\n",
        "\n",
        "# LGBMRegressor(boosting_type='gbdt', class_weight=None, colsample_bytree=1.0,\n",
        "#               importance_type='split', learning_rate=0.1, max_depth=-1,\n",
        "#               min_child_samples=20, min_child_weight=0.001, min_split_gain=0.0,\n",
        "#               n_estimators=100, n_jobs=-1, num_leaves=31, objective=None,\n",
        "#               random_state=None, reg_alpha=0.0, reg_lambda=0.0, silent=True,\n",
        "#               subsample=1.0, subsample_for_bin=200000, subsample_freq=0)\n",
        "\n",
        "#                   89.90701906606753\n",
        "#n_estimators  90   89.92821579095121\n",
        "#learning_rate 0.09 90.14320998235\n",
        "\n",
        "#no change max_depth, min_child_samples\n",
        "\n",
        "lgb_params = {\n",
        "    \"n_jobs\": [-1],\n",
        "    \"n_estimators\": [90],\n",
        "    \"learning_rate\": [0.09],\n",
        "}\n",
        "\n",
        "cv = KFold(n_splits=5)\n",
        "lgb_model =  GridSearchCV(estimator=lgb, param_grid= lgb_params, cv=cv)\n",
        "\n",
        "lgb_model.fit(x_train, y_train)\n",
        "\n",
        "print(lgb_model.best_score_ * 100)\n",
        "print(lgb_model.best_estimator_)"
      ],
      "execution_count": 92,
      "outputs": [
        {
          "output_type": "stream",
          "text": [
            "90.14320998235\n",
            "LGBMRegressor(boosting_type='gbdt', class_weight=None, colsample_bytree=1.0,\n",
            "              importance_type='split', learning_rate=0.09, max_depth=-1,\n",
            "              min_child_samples=20, min_child_weight=0.001, min_split_gain=0.0,\n",
            "              n_estimators=90, n_jobs=-1, num_leaves=31, objective=None,\n",
            "              random_state=None, reg_alpha=0.0, reg_lambda=0.0, silent=True,\n",
            "              subsample=1.0, subsample_for_bin=200000, subsample_freq=0)\n"
          ],
          "name": "stdout"
        }
      ]
    },
    {
      "cell_type": "code",
      "metadata": {
        "id": "qrgLlOkXolgL",
        "colab_type": "code",
        "colab": {}
      },
      "source": [
        "#### FOR COLLECTING ALL PAREMS ONE PLACE AND HP TUNING IN LOOP FOR ALL MODELS\n",
        "\n",
        "# regressors = [ linearRegression, decisionTree, randomForest, lasso, kernalRidge, elasticNet,GBoost, model_xgb, model_lgb]\n",
        "# \n",
        "# grids = [linearRegression_params,decisionTree_params,randomForest_params,lasso_params,kernalRidge_params,elasticNet_params,\n",
        "#          GBoost_params, xgb_params, lgb_params]\n",
        "\n",
        "# scores = []\n",
        "\n",
        "# #for index, regressor in enumerate(regressors):\n",
        "#     #rskf = RepeatedStratifiedKFold(n_splits=10, n_repeats=3, random_state=1)\n",
        "# kf = KFold(n_splits=5, shuffle=True, random_state=1)\n",
        "\n",
        "# regressor_gridSCV = GridSearchCV(estimator=lasso,\n",
        "#               param_grid=lasso_params, n_jobs=-1, cv=kf,  \n",
        "#               scoring='neg_mean_squared_error')\n",
        "\n",
        "# regressor_gridSCV.fit(x_train, y_train)\n",
        "# regressor_gridSVC.best_params_\n",
        "# #    score = regressor_gridSCV.score(x_train, y_train).mean()\n",
        "# #    print(score)\n",
        "# #    scores.append(scores)\n",
        "\n",
        "# #print(scores)"
      ],
      "execution_count": 93,
      "outputs": []
    },
    {
      "cell_type": "markdown",
      "metadata": {
        "id": "c-wxLdkSQOII",
        "colab_type": "text"
      },
      "source": [
        "## Define cross validation strategy"
      ]
    },
    {
      "cell_type": "code",
      "metadata": {
        "id": "atkJQrzekIl9",
        "colab_type": "code",
        "colab": {}
      },
      "source": [
        "## Stacking Averaged models score: 0.1123 -> 0.1116 after adding RobustScaer()\n",
        "## RobustScaler() should be hear because GridSearch won't work with make_pipeline\n",
        "\n",
        "lasso_model = make_pipeline(RobustScaler(), lasso_model)\n",
        "elasticNet_model = make_pipeline(RobustScaler(), elasticNet_model)"
      ],
      "execution_count": 94,
      "outputs": []
    },
    {
      "cell_type": "code",
      "metadata": {
        "id": "S44n71wBQV4D",
        "colab_type": "code",
        "colab": {}
      },
      "source": [
        "#Validation function\n",
        "\n",
        "n_folds = 5\n",
        "kf = KFold(n_folds, shuffle=True, random_state=1).get_n_splits(x_train)\n",
        "def rmsle_cv(model):\n",
        "    kf = KFold(n_folds, shuffle=True, random_state=1).get_n_splits(x_train)\n",
        "    rmse= np.sqrt(-cross_val_score(model, x_train, y_train, scoring=\"neg_mean_squared_error\", cv = kf))\n",
        "    print(rmse)\n",
        "    return(rmse)"
      ],
      "execution_count": 95,
      "outputs": []
    },
    {
      "cell_type": "markdown",
      "metadata": {
        "id": "QzZ9aUmDNLx_",
        "colab_type": "text"
      },
      "source": [
        "## Base models scores"
      ]
    },
    {
      "cell_type": "code",
      "metadata": {
        "id": "CyPXPWxJIUzX",
        "colab_type": "code",
        "colab": {
          "base_uri": "https://localhost:8080/",
          "height": 751
        },
        "outputId": "6a7bd973-6d84-47c1-9a2e-e361294e4d49"
      },
      "source": [
        "models = [ \"Lasso\", \"MultiTaskLasso\", \"LassoLars\",\n",
        "          \"Ridge\", \"Kernel Ridge\",\n",
        "          \"Elastic Net\", \"MultiTaskElasticNet\",\n",
        "          \"Decision Tree\",\n",
        "          \"Random Forest\", \"GBoost\", \"XGBoost\", \"LGBoost\"]\n",
        "\n",
        "regressors = [ lasso_model, multiTaskLasso_model, lassoLars_model,\n",
        "              ridge_model,  kernelRidge_model,\n",
        "              elasticNet_model, multiTaskElasticNet_model, \n",
        "              decisionTree_model,\n",
        "              randomForest_model, GBoost_model, xgb_model, lgb_model ]\n",
        "scores = []\n",
        "\n",
        "\n",
        "for index, regressor in enumerate(regressors):\n",
        "  scores.append( rmsle_cv(regressor).mean() )\n",
        "\n",
        "model_scores = pd.DataFrame({\n",
        "    'Model': models,\n",
        "    'Score': scores})\n",
        "\n",
        "model_scores=model_scores.sort_values(by='Score', ascending=True).reset_index(drop=True)"
      ],
      "execution_count": 96,
      "outputs": [
        {
          "output_type": "stream",
          "text": [
            "[0.10692112 0.11756949 0.12655943 0.10754507 0.11278187]\n",
            "[0.10746652 0.11751687 0.12903896 0.11046067 0.11166367]\n",
            "[0.11086208 0.12069051 0.12686635 0.11193806 0.11208569]\n",
            "[0.10876578 0.12087347 0.12864775 0.11135606 0.11295114]\n",
            "[0.11129161 0.13430756 0.13168496 0.11518272 0.11904108]\n",
            "[0.11031811 0.11699728 0.12490795 0.10671368 0.11164981]\n",
            "[0.11080836 0.11859743 0.12725132 0.11083417 0.11221119]\n",
            "[0.18604591 0.18740411 0.17989704 0.18031883 0.1872629 ]\n",
            "[0.12546538 0.13804672 0.14013106 0.12846237 0.12951942]\n",
            "[0.12073972 0.12834322 0.12888695 0.11321359 0.11796632]\n",
            "[04:46:53] WARNING: /workspace/src/objective/regression_obj.cu:152: reg:linear is now deprecated in favor of reg:squarederror.\n",
            "[04:46:55] WARNING: /workspace/src/objective/regression_obj.cu:152: reg:linear is now deprecated in favor of reg:squarederror.\n",
            "[04:46:58] WARNING: /workspace/src/objective/regression_obj.cu:152: reg:linear is now deprecated in favor of reg:squarederror.\n",
            "[04:47:00] WARNING: /workspace/src/objective/regression_obj.cu:152: reg:linear is now deprecated in favor of reg:squarederror.\n",
            "[04:47:02] WARNING: /workspace/src/objective/regression_obj.cu:152: reg:linear is now deprecated in favor of reg:squarederror.\n",
            "[04:47:04] WARNING: /workspace/src/objective/regression_obj.cu:152: reg:linear is now deprecated in favor of reg:squarederror.\n",
            "[04:47:07] WARNING: /workspace/src/objective/regression_obj.cu:152: reg:linear is now deprecated in favor of reg:squarederror.\n",
            "[04:47:09] WARNING: /workspace/src/objective/regression_obj.cu:152: reg:linear is now deprecated in favor of reg:squarederror.\n",
            "[04:47:11] WARNING: /workspace/src/objective/regression_obj.cu:152: reg:linear is now deprecated in favor of reg:squarederror.\n",
            "[04:47:13] WARNING: /workspace/src/objective/regression_obj.cu:152: reg:linear is now deprecated in favor of reg:squarederror.\n",
            "[04:47:15] WARNING: /workspace/src/objective/regression_obj.cu:152: reg:linear is now deprecated in favor of reg:squarederror.\n",
            "[04:47:17] WARNING: /workspace/src/objective/regression_obj.cu:152: reg:linear is now deprecated in favor of reg:squarederror.\n",
            "[04:47:20] WARNING: /workspace/src/objective/regression_obj.cu:152: reg:linear is now deprecated in favor of reg:squarederror.\n",
            "[04:47:22] WARNING: /workspace/src/objective/regression_obj.cu:152: reg:linear is now deprecated in favor of reg:squarederror.\n",
            "[04:47:24] WARNING: /workspace/src/objective/regression_obj.cu:152: reg:linear is now deprecated in favor of reg:squarederror.\n",
            "[04:47:27] WARNING: /workspace/src/objective/regression_obj.cu:152: reg:linear is now deprecated in favor of reg:squarederror.\n",
            "[04:47:29] WARNING: /workspace/src/objective/regression_obj.cu:152: reg:linear is now deprecated in favor of reg:squarederror.\n",
            "[04:47:31] WARNING: /workspace/src/objective/regression_obj.cu:152: reg:linear is now deprecated in favor of reg:squarederror.\n",
            "[04:47:34] WARNING: /workspace/src/objective/regression_obj.cu:152: reg:linear is now deprecated in favor of reg:squarederror.\n",
            "[04:47:36] WARNING: /workspace/src/objective/regression_obj.cu:152: reg:linear is now deprecated in favor of reg:squarederror.\n",
            "[04:47:38] WARNING: /workspace/src/objective/regression_obj.cu:152: reg:linear is now deprecated in favor of reg:squarederror.\n",
            "[04:47:40] WARNING: /workspace/src/objective/regression_obj.cu:152: reg:linear is now deprecated in favor of reg:squarederror.\n",
            "[04:47:42] WARNING: /workspace/src/objective/regression_obj.cu:152: reg:linear is now deprecated in favor of reg:squarederror.\n",
            "[04:47:44] WARNING: /workspace/src/objective/regression_obj.cu:152: reg:linear is now deprecated in favor of reg:squarederror.\n",
            "[04:47:47] WARNING: /workspace/src/objective/regression_obj.cu:152: reg:linear is now deprecated in favor of reg:squarederror.\n",
            "[04:47:49] WARNING: /workspace/src/objective/regression_obj.cu:152: reg:linear is now deprecated in favor of reg:squarederror.\n",
            "[04:47:51] WARNING: /workspace/src/objective/regression_obj.cu:152: reg:linear is now deprecated in favor of reg:squarederror.\n",
            "[04:47:54] WARNING: /workspace/src/objective/regression_obj.cu:152: reg:linear is now deprecated in favor of reg:squarederror.\n",
            "[04:47:56] WARNING: /workspace/src/objective/regression_obj.cu:152: reg:linear is now deprecated in favor of reg:squarederror.\n",
            "[04:47:58] WARNING: /workspace/src/objective/regression_obj.cu:152: reg:linear is now deprecated in favor of reg:squarederror.\n",
            "[0.11751801 0.12277912 0.12728452 0.11154914 0.11970846]\n",
            "[0.12067256 0.13002267 0.12948429 0.12376757 0.12164143]\n"
          ],
          "name": "stdout"
        }
      ]
    },
    {
      "cell_type": "code",
      "metadata": {
        "id": "ns0oeoFbVDN4",
        "colab_type": "code",
        "colab": {
          "base_uri": "https://localhost:8080/",
          "height": 421
        },
        "outputId": "099dcede-6066-4167-f89d-58fce159fb40"
      },
      "source": [
        "model_scores"
      ],
      "execution_count": 97,
      "outputs": [
        {
          "output_type": "execute_result",
          "data": {
            "text/html": [
              "<div>\n",
              "<style scoped>\n",
              "    .dataframe tbody tr th:only-of-type {\n",
              "        vertical-align: middle;\n",
              "    }\n",
              "\n",
              "    .dataframe tbody tr th {\n",
              "        vertical-align: top;\n",
              "    }\n",
              "\n",
              "    .dataframe thead th {\n",
              "        text-align: right;\n",
              "    }\n",
              "</style>\n",
              "<table border=\"1\" class=\"dataframe\">\n",
              "  <thead>\n",
              "    <tr style=\"text-align: right;\">\n",
              "      <th></th>\n",
              "      <th>Model</th>\n",
              "      <th>Score</th>\n",
              "    </tr>\n",
              "  </thead>\n",
              "  <tbody>\n",
              "    <tr>\n",
              "      <th>0</th>\n",
              "      <td>Elastic Net</td>\n",
              "      <td>0.114</td>\n",
              "    </tr>\n",
              "    <tr>\n",
              "      <th>1</th>\n",
              "      <td>Lasso</td>\n",
              "      <td>0.114</td>\n",
              "    </tr>\n",
              "    <tr>\n",
              "      <th>2</th>\n",
              "      <td>MultiTaskLasso</td>\n",
              "      <td>0.115</td>\n",
              "    </tr>\n",
              "    <tr>\n",
              "      <th>3</th>\n",
              "      <td>MultiTaskElasticNet</td>\n",
              "      <td>0.116</td>\n",
              "    </tr>\n",
              "    <tr>\n",
              "      <th>4</th>\n",
              "      <td>LassoLars</td>\n",
              "      <td>0.116</td>\n",
              "    </tr>\n",
              "    <tr>\n",
              "      <th>5</th>\n",
              "      <td>Ridge</td>\n",
              "      <td>0.117</td>\n",
              "    </tr>\n",
              "    <tr>\n",
              "      <th>6</th>\n",
              "      <td>XGBoost</td>\n",
              "      <td>0.120</td>\n",
              "    </tr>\n",
              "    <tr>\n",
              "      <th>7</th>\n",
              "      <td>GBoost</td>\n",
              "      <td>0.122</td>\n",
              "    </tr>\n",
              "    <tr>\n",
              "      <th>8</th>\n",
              "      <td>Kernel Ridge</td>\n",
              "      <td>0.122</td>\n",
              "    </tr>\n",
              "    <tr>\n",
              "      <th>9</th>\n",
              "      <td>LGBoost</td>\n",
              "      <td>0.125</td>\n",
              "    </tr>\n",
              "    <tr>\n",
              "      <th>10</th>\n",
              "      <td>Random Forest</td>\n",
              "      <td>0.132</td>\n",
              "    </tr>\n",
              "    <tr>\n",
              "      <th>11</th>\n",
              "      <td>Decision Tree</td>\n",
              "      <td>0.184</td>\n",
              "    </tr>\n",
              "  </tbody>\n",
              "</table>\n",
              "</div>"
            ],
            "text/plain": [
              "                  Model  Score\n",
              "0           Elastic Net  0.114\n",
              "1                 Lasso  0.114\n",
              "2        MultiTaskLasso  0.115\n",
              "3   MultiTaskElasticNet  0.116\n",
              "4             LassoLars  0.116\n",
              "5                 Ridge  0.117\n",
              "6               XGBoost  0.120\n",
              "7                GBoost  0.122\n",
              "8          Kernel Ridge  0.122\n",
              "9               LGBoost  0.125\n",
              "10        Random Forest  0.132\n",
              "11        Decision Tree  0.184"
            ]
          },
          "metadata": {
            "tags": []
          },
          "execution_count": 97
        }
      ]
    },
    {
      "cell_type": "markdown",
      "metadata": {
        "id": "DVImEY542f-s",
        "colab_type": "text"
      },
      "source": [
        "## Ensembling"
      ]
    },
    {
      "cell_type": "markdown",
      "metadata": {
        "id": "5NqvhdVElejS",
        "colab_type": "text"
      },
      "source": [
        "**Stacking**"
      ]
    },
    {
      "cell_type": "code",
      "metadata": {
        "id": "2eB601eNGkkg",
        "colab_type": "code",
        "colab": {
          "base_uri": "https://localhost:8080/",
          "height": 51
        },
        "outputId": "d7a963a0-858b-4127-fff5-3dc62937b258"
      },
      "source": [
        "from sklearn.ensemble import StackingRegressor\n",
        "\n",
        "estimators = [ ('elasticNet', elasticNet_model), ('ridge', kernelRidge_model), ('gboost', GBoost_model) ]\n",
        "final_estimator = lasso_model\n",
        "\n",
        "stacked_models = StackingRegressor( estimators=estimators, final_estimator=final_estimator )\n",
        "\n",
        "score = rmsle_cv(stacked_models)\n",
        "print(\"Stacking Averaged models score: {:.4f} ({:.4f})\".format(score.mean(), score.std()))"
      ],
      "execution_count": 98,
      "outputs": [
        {
          "output_type": "stream",
          "text": [
            "[0.10887306 0.11567466 0.12101917 0.10274004 0.10825749]\n",
            "Stacking Averaged models score: 0.1113 (0.0064)\n"
          ],
          "name": "stdout"
        }
      ]
    },
    {
      "cell_type": "markdown",
      "metadata": {
        "id": "I7sOTlQeNLyY",
        "colab_type": "text"
      },
      "source": [
        "**Weighted Average**"
      ]
    },
    {
      "cell_type": "code",
      "metadata": {
        "colab_type": "code",
        "id": "3kVkwaAELsVq",
        "colab": {}
      },
      "source": [
        "def rmsle(y, y_pred):\n",
        "    return np.sqrt(mean_squared_error(y, y_pred))"
      ],
      "execution_count": 99,
      "outputs": []
    },
    {
      "cell_type": "markdown",
      "metadata": {
        "colab_type": "text",
        "id": "QQuAUJbnLsVx"
      },
      "source": [
        " Final Training and Prediction"
      ]
    },
    {
      "cell_type": "markdown",
      "metadata": {
        "colab_type": "text",
        "id": "W2GeR6e0LsVy"
      },
      "source": [
        "We will have to invert the Box-Cox transform above to be able to submit the predictions from the test data"
      ]
    },
    {
      "cell_type": "markdown",
      "metadata": {
        "colab_type": "text",
        "id": "PrkafjnoLsVz"
      },
      "source": [
        "**StackedRegressor**:"
      ]
    },
    {
      "cell_type": "code",
      "metadata": {
        "colab_type": "code",
        "id": "HO0Xk-bBLsVz",
        "colab": {
          "base_uri": "https://localhost:8080/",
          "height": 34
        },
        "outputId": "bbe89a38-655c-4ce3-8297-ead381111a8f"
      },
      "source": [
        "stacked_models.fit(x_train, y_train)\n",
        "stacked_models_y_train_pred = stacked_models.predict(x_train)\n",
        "stacked_models_y_test_pred = np.expm1(stacked_models.predict(x_test))\n",
        "print(rmsle(y_train, stacked_models_y_train_pred))"
      ],
      "execution_count": 100,
      "outputs": [
        {
          "output_type": "stream",
          "text": [
            "0.07705118773595805\n"
          ],
          "name": "stdout"
        }
      ]
    },
    {
      "cell_type": "markdown",
      "metadata": {
        "colab_type": "text",
        "id": "LY6E4YgaLsV4"
      },
      "source": [
        "**XGBoost**:"
      ]
    },
    {
      "cell_type": "code",
      "metadata": {
        "colab_type": "code",
        "id": "GrFozMvoLsV4",
        "colab": {
          "base_uri": "https://localhost:8080/",
          "height": 156
        },
        "outputId": "c037872d-bd39-4696-8ce1-895b70f8bc0d"
      },
      "source": [
        "xgb_model.fit(x_train, y_train)\n",
        "xgb_y_train_pred = xgb_model.predict(x_train)\n",
        "xgb_y_test_pred = np.expm1(xgb_model.predict(x_test))\n",
        "print(rmsle(y_train, xgb_y_train_pred))"
      ],
      "execution_count": 101,
      "outputs": [
        {
          "output_type": "stream",
          "text": [
            "[05:22:08] WARNING: /workspace/src/objective/regression_obj.cu:152: reg:linear is now deprecated in favor of reg:squarederror.\n",
            "[05:22:11] WARNING: /workspace/src/objective/regression_obj.cu:152: reg:linear is now deprecated in favor of reg:squarederror.\n",
            "[05:22:14] WARNING: /workspace/src/objective/regression_obj.cu:152: reg:linear is now deprecated in favor of reg:squarederror.\n",
            "[05:22:16] WARNING: /workspace/src/objective/regression_obj.cu:152: reg:linear is now deprecated in favor of reg:squarederror.\n",
            "[05:22:19] WARNING: /workspace/src/objective/regression_obj.cu:152: reg:linear is now deprecated in favor of reg:squarederror.\n",
            "[05:22:22] WARNING: /workspace/src/objective/regression_obj.cu:152: reg:linear is now deprecated in favor of reg:squarederror.\n",
            "0.06368622254019249\n"
          ],
          "name": "stdout"
        }
      ]
    },
    {
      "cell_type": "markdown",
      "metadata": {
        "colab_type": "text",
        "id": "2K447DO4LsV8"
      },
      "source": [
        "**LightGBM**:"
      ]
    },
    {
      "cell_type": "code",
      "metadata": {
        "colab_type": "code",
        "id": "ZoXwX97HLsV9",
        "colab": {
          "base_uri": "https://localhost:8080/",
          "height": 34
        },
        "outputId": "3d0e65b7-a7ac-43ff-d373-31476ba9c0de"
      },
      "source": [
        "lgb_model.fit(x_train, y_train)\n",
        "lgb_y_train_pred = lgb_model.predict(x_train)\n",
        "lgb_y_test_pred = np.expm1(lgb_model.predict(x_test))\n",
        "print(rmsle(y_train, lgb_y_train_pred))"
      ],
      "execution_count": 102,
      "outputs": [
        {
          "output_type": "stream",
          "text": [
            "0.048011418455771566\n"
          ],
          "name": "stdout"
        }
      ]
    },
    {
      "cell_type": "code",
      "metadata": {
        "colab_type": "code",
        "id": "29oHZXejLsWB",
        "colab": {
          "base_uri": "https://localhost:8080/",
          "height": 51
        },
        "outputId": "5156249d-8dc9-4a6e-a7fa-d4ac7632db72"
      },
      "source": [
        "'''RMSE on the entire Train data when averaging'''\n",
        "\n",
        "print('RMSLE score on train data:')\n",
        "print(rmsle(y_train,stacked_models_y_train_pred*0.60 +\n",
        "               xgb_y_train_pred*0.20 + lgb_y_train_pred*0.20 ))"
      ],
      "execution_count": 103,
      "outputs": [
        {
          "output_type": "stream",
          "text": [
            "RMSLE score on train data:\n",
            "0.06573838313232286\n"
          ],
          "name": "stdout"
        }
      ]
    },
    {
      "cell_type": "markdown",
      "metadata": {
        "colab_type": "text",
        "id": "NGk72vcMLsWF"
      },
      "source": [
        "**Ensemble prediction**:"
      ]
    },
    {
      "cell_type": "code",
      "metadata": {
        "colab_type": "code",
        "id": "pki0gcy_LsWF",
        "colab": {}
      },
      "source": [
        "ensemble = stacked_models_y_test_pred*0.70 + xgb_y_test_pred*0.15 + lgb_y_test_pred*0.15"
      ],
      "execution_count": 104,
      "outputs": []
    },
    {
      "cell_type": "markdown",
      "metadata": {
        "colab_type": "text",
        "id": "4gOnnIFfLsWL"
      },
      "source": [
        "#Submission"
      ]
    },
    {
      "cell_type": "code",
      "metadata": {
        "colab_type": "code",
        "id": "68Hr1fGWLsWM",
        "colab": {}
      },
      "source": [
        "sub = pd.DataFrame()\n",
        "sub['Id'] = x_test_id\n",
        "sub['SalePrice'] = ensemble\n",
        "sub.to_csv('submission.csv',index=False)"
      ],
      "execution_count": 105,
      "outputs": []
    },
    {
      "cell_type": "markdown",
      "metadata": {
        "colab_type": "text",
        "id": "yvzv5WMXLsWP"
      },
      "source": [
        "Sumbission-1  Rank 2740 \n",
        "\n",
        "Sumbission-2  Rank 1299 Added more linear algorithems\n",
        "\n",
        "Sumbission-3  Rank 376  Added Hyperparameter Tuning and stacking\n",
        "\n",
        "Submission-4  Rank 263  Added 4 new featrues\n"
      ]
    }
  ]
}